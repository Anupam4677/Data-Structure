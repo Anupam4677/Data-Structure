{
 "cells": [
  {
   "cell_type": "code",
   "execution_count": 21,
   "metadata": {},
   "outputs": [
    {
     "name": "stdout",
     "output_type": "stream",
     "text": [
      ".................................\n",
      "[0, 0, 0, 0, 0]\n"
     ]
    }
   ],
   "source": [
    "# 1. lists:ordered, mutable and allow duplicate elements \n",
    "mylist = [\"banana\",\"cherry\",\"apple\"]\n",
    "mylist2 = list()\n",
    "#print(mylist)\n",
    "#print(mylist2)\n",
    "item = mylist[0]\n",
    "#print(item)\n",
    "# for i in mylist:\n",
    "#     print(i)\n",
    "# if 'banana' in mylist:\n",
    "#     print('yes')\n",
    "# else:\n",
    "#     print('no')\n",
    "\n",
    "# if 'guava' not in mylist:\n",
    "#     print('soory no guava')\n",
    "# else:\n",
    "#     print('We have Banana!!')\n",
    "print('.................................')\n",
    "#print(len(mylist))\n",
    "mylist.append('lemon')\n",
    "#print(mylist)\n",
    "mylist.insert(3,'chicken')\n",
    "#print(mylist)\n",
    "# retuen the last item and also removes it \n",
    "mylist.pop()\n",
    "# remove a specific element \n",
    "mylist.remove('chicken')\n",
    "# print(mylist)\n",
    "#reverse method reverces in place - changes the original list\n",
    "rev_list = mylist.reverse()\n",
    "#print(mylist)\n",
    "#sort method sorts in palce - changes the original list\n",
    "mylist.sort()\n",
    "#print(mylist)\n",
    "#print(mylist)\n",
    "new_list = sorted(mylist)\n",
    "#print(mylist)\n",
    "#print(new_list)\n",
    "\n",
    "mylist = [0] * 5\n",
    "print(mylist)\n",
    "\n"
   ]
  },
  {
   "cell_type": "code",
   "execution_count": 31,
   "metadata": {},
   "outputs": [
    {
     "name": "stdout",
     "output_type": "stream",
     "text": [
      "0.04598779999651015\n",
      "0.007732199999736622\n"
     ]
    }
   ],
   "source": [
    "#tuple ordered , immutabe , allows duplicate\n",
    "# cant be changed after creation \n",
    "\n",
    "# mytuple = ()\n",
    "# mytuple =(\"max\",28,\"Boston\")\n",
    "# print(mytuple)\n",
    "# parenthesis are optional\n",
    "#mytuple =\"max\",28,\"Boston\"\n",
    "# print(mytuple)\n",
    "# item = mytuple[-1]\n",
    "# print(item)\n",
    "# immutale - error \n",
    "#mytuple[-1] = \"time\"\n",
    "my_tuple= ('a','p','p','l','l','e')\n",
    "# gives the fist index \n",
    "#print(my_tuple.index('p'))\n",
    "# gives the total count of p  \n",
    "#print(my_tuple.count('p'))\n",
    "item1,*others,item2 = my_tuple\n",
    "# multiple assigmnemnt \n",
    "# print(item1)\n",
    "# print(others)\n",
    "# print(item2)\n",
    "\n",
    "import sys \n",
    "# size of tuple is smaller than list even with same elements \n",
    "my_list = ['a','p','p','l','l','e']\n",
    "my_tuple = ('a','p','p','l','l','e')\n",
    "# print(sys.getsizeof(my_list))\n",
    "# print(sys.getsizeof(my_tuple))\n",
    "\n",
    "# one million times we created alist and tuple and compare \n",
    "# takes much longer to create list than tuple \n",
    "# working with tuple can e more efficient \n",
    "import timeit\n",
    "print(timeit.timeit(stmt=\"[1,2,3,4,5,6,7,8]\",number=1000000))\n",
    "print(timeit.timeit(stmt=\"(1,2,3,4,5,6,7,8)\",number=1000000))\n"
   ]
  },
  {
   "cell_type": "code",
   "execution_count": 48,
   "metadata": {},
   "outputs": [
    {
     "name": "stdout",
     "output_type": "stream",
     "text": [
      "{'name': 'max', 'age': 37, 'city': 'Muzaffarpur'}\n"
     ]
    },
    {
     "data": {
      "text/plain": [
       "True"
      ]
     },
     "execution_count": 48,
     "metadata": {},
     "output_type": "execute_result"
    }
   ],
   "source": [
    "# dictionary- key-value , unordered , mutable\n",
    "\n",
    "my_dict = {\"name\":\"max\",\"age\":37,\"city\":'Muzaffarpur'}\n",
    "print(my_dict)\n",
    "# another method - we dont need \"\" for the keys \n",
    "my_dict2 = dict(names = \"max\", age = 37,city = 'Muzaffarpur')\n",
    "# print(my_dict2)\n",
    "# values \n",
    "# print(my_dict.values())\n",
    "# print(my_dict.keys())\n",
    "my_dict['age']\n",
    "\n",
    "# add a new pair \n",
    "my_dict['Occupation'] = \"software engineer\"\n",
    "#print(my_dict)\n",
    "\n",
    "# delete \n",
    "del my_dict['Occupation']\n",
    "# print(my_dict)\n",
    "my_dict.pop(\"city\")\n",
    "#print(my_dict)\n",
    "# removes last inserted item \n",
    "my_dict.popitem()\n",
    "#print(my_dict)\n",
    "\n",
    "# check if the key is imside dictionary \n",
    "my_dict = {\"name\":\"max\",\"age\":37,\"city\":'Muzaffarpur'}\n",
    "\"name\" in my_dict\n",
    "\"name\" not in my_dict\n",
    "\"max\" in my_dict.values()\n",
    "\"city\" in my_dict.keys()\n"
   ]
  },
  {
   "cell_type": "code",
   "execution_count": 5,
   "metadata": {},
   "outputs": [
    {
     "data": {
      "text/plain": [
       "['anupam', 'hero', 'm', 'a', 'y', 'a', 1, 2, 3]"
      ]
     },
     "execution_count": 5,
     "metadata": {},
     "output_type": "execute_result"
    }
   ],
   "source": [
    "alist = ['anupam','prakash','hero']\n",
    "alist.remove('prakash')\n",
    "alist.extend('maya')\n",
    "alist.extend([1,2,3])\n",
    "alist"
   ]
  },
  {
   "cell_type": "code",
   "execution_count": 15,
   "metadata": {},
   "outputs": [
    {
     "name": "stdout",
     "output_type": "stream",
     "text": [
      "4\n",
      "location: 1\n",
      "location: 2\n",
      "maxpos:2\n",
      "location: 3\n",
      "location: 4\n",
      "maxpos:4\n",
      "temp:2\n",
      "maxPosition:2\n"
     ]
    },
    {
     "data": {
      "text/plain": [
       "[34, 56, 23, 78, 2]"
      ]
     },
     "execution_count": 15,
     "metadata": {},
     "output_type": "execute_result"
    }
   ],
   "source": [
    "alist = [34,56,23,78,2]\n",
    "\n",
    "def sortList(alist):\n",
    "    for fillslot in range(len(alist)-1,0,-1):\n",
    "        print(fillslot)\n",
    "        maxPosition = 0\n",
    "        for locations in range(1,fillslot+1):\n",
    "            print(f\"location: {locations}\")\n",
    "            if alist[maxPosition] > alist[locations]:\n",
    "                maxPosition = locations\n",
    "                print(f\"maxpos:{maxPosition}\")\n",
    "        temp = alist[fillslot]\n",
    "        print(f\"temp:{temp}\")\n",
    "        print(f\"maxPosition:{alist[maxPosition]}\")\n",
    "        alist[fillslot] = alist[maxPosition]\n",
    "        alist[maxPosition] = temp\n",
    "\n",
    "        return alist\n",
    "sortList(alist)\n"
   ]
  },
  {
   "cell_type": "code",
   "execution_count": 11,
   "metadata": {},
   "outputs": [
    {
     "name": "stdout",
     "output_type": "stream",
     "text": [
      "4\n",
      "location: 1\n",
      "location: 2\n",
      "maxpos:2\n",
      "location: 3\n",
      "3\n",
      "location: 1\n",
      "location: 2\n",
      "maxpos:2\n",
      "2\n",
      "location: 1\n",
      "1\n"
     ]
    }
   ],
   "source": [
    "\n",
    "# palyndome - python and typhon \n",
    "# noon = noon\n",
    "\n",
    "demo_string = \"python\"\n",
    "def check_palyndrom(demo1):\n",
    "    alist = []\n",
    "    result = True\n",
    "    for ele in demo1:\n",
    "        alist.append()\n",
    "\n",
    "\n",
    "  "
   ]
  },
  {
   "cell_type": "code",
   "execution_count": null,
   "metadata": {},
   "outputs": [],
   "source": []
  },
  {
   "cell_type": "code",
   "execution_count": null,
   "metadata": {},
   "outputs": [],
   "source": []
  },
  {
   "cell_type": "code",
   "execution_count": null,
   "metadata": {},
   "outputs": [],
   "source": []
  },
  {
   "cell_type": "code",
   "execution_count": null,
   "metadata": {},
   "outputs": [],
   "source": []
  }
 ],
 "metadata": {
  "kernelspec": {
   "display_name": "Python 3",
   "language": "python",
   "name": "python3"
  },
  "language_info": {
   "codemirror_mode": {
    "name": "ipython",
    "version": 3
   },
   "file_extension": ".py",
   "mimetype": "text/x-python",
   "name": "python",
   "nbconvert_exporter": "python",
   "pygments_lexer": "ipython3",
   "version": "3.10.0"
  },
  "orig_nbformat": 4
 },
 "nbformat": 4,
 "nbformat_minor": 2
}
