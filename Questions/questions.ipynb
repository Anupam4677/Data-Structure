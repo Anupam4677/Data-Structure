{
 "cells": [
  {
   "cell_type": "code",
   "execution_count": 80,
   "metadata": {},
   "outputs": [
    {
     "data": {
      "text/plain": [
       "3"
      ]
     },
     "execution_count": 80,
     "metadata": {},
     "output_type": "execute_result"
    }
   ],
   "source": [
    "# Given an integer if a no is prime return 1 .\n",
    "# Otherwise return the smallest divisor greater than 1 \n",
    "\n",
    "def func_even(n):\n",
    "    flag = True\n",
    "    for i in range(2,n):\n",
    "        if n%i==0:\n",
    "            flag= False\n",
    "            break \n",
    "    if flag==False:\n",
    "        return i\n",
    "    else:\n",
    "        return 1\n",
    "\n",
    "\n",
    "func_even(39)\n"
   ]
  },
  {
   "cell_type": "code",
   "execution_count": 3,
   "metadata": {},
   "outputs": [
    {
     "name": "stdout",
     "output_type": "stream",
     "text": [
      "...........\n",
      "In while-1 pos1 0\n",
      "In while-1 pos2 0\n",
      "In while-1 found False\n",
      "...........\n",
      "In while-2 cpmare b e\n",
      "In while-2 cpmare b l\n",
      "In while-2 cpmare b b\n",
      "found\n",
      "['e', 'l', None, 'o', 'w']\n",
      "...........\n",
      "In while-1 pos1 1\n",
      "In while-1 pos2 0\n",
      "In while-1 found False\n",
      "...........\n",
      "In while-2 cpmare e e\n",
      "found\n",
      "[None, 'l', None, 'o', 'w']\n",
      "...........\n",
      "In while-1 pos1 2\n",
      "In while-1 pos2 0\n",
      "In while-1 found False\n",
      "...........\n",
      "In while-2 cpmare l None\n",
      "In while-2 cpmare l l\n",
      "found\n",
      "[None, None, None, 'o', 'w']\n",
      "...........\n",
      "In while-1 pos1 3\n",
      "In while-1 pos2 0\n",
      "In while-1 found False\n",
      "...........\n",
      "In while-2 cpmare o None\n",
      "In while-2 cpmare o None\n",
      "In while-2 cpmare o None\n",
      "In while-2 cpmare o o\n",
      "found\n",
      "[None, None, None, None, 'w']\n",
      "...........\n",
      "In while-1 pos1 4\n",
      "In while-1 pos2 0\n",
      "In while-1 found False\n",
      "...........\n",
      "In while-2 cpmare w None\n",
      "In while-2 cpmare w None\n",
      "In while-2 cpmare w None\n",
      "In while-2 cpmare w None\n",
      "In while-2 cpmare w w\n",
      "found\n",
      "[None, None, None, None, None]\n"
     ]
    },
    {
     "data": {
      "text/plain": [
       "True"
      ]
     },
     "execution_count": 3,
     "metadata": {},
     "output_type": "execute_result"
    }
   ],
   "source": [
    "def anagramsolution(s1,s2):\n",
    "    alist = list(s2)\n",
    "    pos1 = 0\n",
    "    stillOK = True\n",
    "\n",
    "    while pos1 < len(s1) and stillOK:\n",
    "        # looping through pos1\n",
    "        pos2 = 0\n",
    "        found = False\n",
    "        print('...........')\n",
    "        print('In while-1 pos1',pos1)\n",
    "        print('In while-1 pos2',pos2)\n",
    "        print('In while-1 found',found)\n",
    "        print('...........')\n",
    "        \n",
    "        while pos2 < len(alist) and not found:\n",
    "            print('In while-2 cpmare',s1[pos1],alist[pos2])\n",
    "            if s1[pos1] == alist[pos2]:\n",
    "                found = True\n",
    "            else:\n",
    "                pos2 = pos2 + 1\n",
    "        if found:\n",
    "            alist[pos2] = None\n",
    "            print('found')\n",
    "            print(alist)\n",
    "        else:\n",
    "            stillOK = False\n",
    "        pos1 = pos1 + 1\n",
    "    return stillOK\n",
    "anagramsolution('below','elbow') \n"
   ]
  },
  {
   "cell_type": "code",
   "execution_count": 82,
   "metadata": {},
   "outputs": [
    {
     "name": "stdout",
     "output_type": "stream",
     "text": [
      "freq1: {'n': 1, 'a': 1, 'm': 1, 'e': 2, 'l': 1, 's': 2}\n",
      "freq2: {'s': 2, 'a': 1, 'l': 1, 'e': 2, 'm': 1, 'n': 1}\n"
     ]
    },
    {
     "data": {
      "text/plain": [
       "True"
      ]
     },
     "execution_count": 82,
     "metadata": {},
     "output_type": "execute_result"
    }
   ],
   "source": [
    "# two strings are anagrams if they are made up of same charaters with the same frequency \n",
    "# calculate : freq1 and freq2 for charaters of s1 and s2\n",
    "# freq1 = freq2\n",
    "def are_anagram(s1,s2):\n",
    "    if len(s1) != len(s2):\n",
    "        return False\n",
    "    freq1 = {}\n",
    "    freq2 = {}\n",
    "    for ch in s1:\n",
    "        if ch in freq1:\n",
    "            freq1[ch] += 1\n",
    "        else:\n",
    "            freq1[ch] = 1\n",
    "    for ch in s2:\n",
    "        if ch in freq2:\n",
    "            freq2[ch] += 1\n",
    "        else:\n",
    "            freq2[ch] = 1\n",
    "    print(f'freq1: {freq1}')\n",
    "    print(f'freq2: {freq2}')\n",
    "    # for key in freq1:\n",
    "    #     if key not in freq2 or freq1[key] != freq1[key]:\n",
    "    #         return False\n",
    "    if freq1 == freq2:\n",
    "        return True\n",
    "    else:\n",
    "        return False\n",
    "\n",
    "are_anagram('nameless','salesmen')\n",
    "\n",
    "    "
   ]
  },
  {
   "cell_type": "code",
   "execution_count": 83,
   "metadata": {},
   "outputs": [
    {
     "data": {
      "text/plain": [
       "True"
      ]
     },
     "execution_count": 83,
     "metadata": {},
     "output_type": "execute_result"
    }
   ],
   "source": [
    "from collections import Counter \n",
    "\n",
    "def are_anagrams_counter(s1,s2):\n",
    "    if len(s1) != len(s2):\n",
    "        return False\n",
    "    return Counter(s1) == Counter(s2)\n",
    "are_anagrams_counter('nameless','salesmen')\n"
   ]
  },
  {
   "cell_type": "code",
   "execution_count": 4,
   "metadata": {},
   "outputs": [
    {
     "data": {
      "text/plain": [
       "True"
      ]
     },
     "execution_count": 4,
     "metadata": {},
     "output_type": "execute_result"
    }
   ],
   "source": [
    "# Two anagrams will have same lexicographically srted string \n",
    "\n",
    "def are_anagrams_counter(s1,s2):\n",
    "    if len(s1) != len(s2):\n",
    "        return False\n",
    "    return sorted(s1) == sorted(s2)\n",
    "are_anagrams_counter('nameless','salesmen')\n",
    "\n"
   ]
  },
  {
   "cell_type": "code",
   "execution_count": 112,
   "metadata": {},
   "outputs": [
    {
     "data": {
      "text/plain": [
       "[5, 5]"
      ]
     },
     "execution_count": 112,
     "metadata": {},
     "output_type": "execute_result"
    }
   ],
   "source": [
    "# Question - 3\n",
    "# First and last position problem \n",
    "# given a sorted array of integers arr and an integer target ,find the index of first and last position of target in arr \n",
    "# in taget cannot be found in array return [-1,-1]\n",
    "arr = [2,3,5,7,8,9,3,5,3,6]\n",
    "taget = 3 \n",
    "result = [1,9]\n",
    "#taget = 4\n",
    "#result = [-1,-1]\n",
    "\n",
    "def target_index(arr, target):\n",
    "    result = []\n",
    "    target_index_start = 0\n",
    "    target_index_end = 0\n",
    "    count = 0\n",
    "    for i,element in enumerate(arr):\n",
    "        if element == target :\n",
    "            target_index_start = i\n",
    "            result.append(target_index_start)\n",
    "            count += 1\n",
    "            if len(result) > count:\n",
    "                target_index_end = i\n",
    "                result.append(target_index_end)\n",
    "    if len(result) == 0:\n",
    "        result = [-1,-1]\n",
    "    else:\n",
    "        indices = [0,count-1]\n",
    "        result = [result[index] for index in indices]\n",
    "    return result\n",
    "\n",
    "\n",
    "target_index(arr, 9)\n",
    "           \n",
    "\n"
   ]
  },
  {
   "cell_type": "code",
   "execution_count": 2,
   "metadata": {},
   "outputs": [
    {
     "data": {
      "text/plain": [
       "[2, 6]"
      ]
     },
     "execution_count": 2,
     "metadata": {},
     "output_type": "execute_result"
    }
   ],
   "source": [
    "# Question - 3\n",
    "# First and last position problem \n",
    "# given a sorted array of integers arr and an integer target ,find the index of first and last position of target in arr \n",
    "# in taget cannot be found in array return [-1,-1]\n",
    "arr = [2,4,5,5,5,5,5,7,9,9]\n",
    "target = 5\n",
    "output = [2,6]\n",
    "\n",
    "def first_and_last(arr,target):\n",
    "    for i in range(len(arr)):\n",
    "        if arr[i] == target:\n",
    "            start = i \n",
    "            while i+1 < len(arr) and arr[i+1] == target:\n",
    "                i += 1\n",
    "            return [start,i]\n",
    "    return [-1,-1]\n",
    "first_and_last(arr,5)\n"
   ]
  },
  {
   "cell_type": "code",
   "execution_count": 15,
   "metadata": {},
   "outputs": [
    {
     "data": {
      "text/plain": [
       "9"
      ]
     },
     "execution_count": 15,
     "metadata": {},
     "output_type": "execute_result"
    }
   ],
   "source": [
    "# looking for position in the list where value exist \n",
    "alist = [54,26,93,17,77,31,44,55,20,65]\n",
    "target = 65\n",
    "def linear_search(list,target):\n",
    "    index = 0 \n",
    "    for ele in list:\n",
    "        if ele == target:\n",
    "            return index\n",
    "        else:\n",
    "            index += 1\n",
    "    return index\n",
    "\n",
    "def linear_search2(alist,target):\n",
    "    \"\"\"\n",
    "    return the index postion of the target if found wit True, else False and Not Found!\n",
    "    \"\"\"\n",
    "    pos = 0 \n",
    "    found = False \n",
    "    while pos < len(alist) and not found:\n",
    "        if alist[pos] == target:\n",
    "            found = True\n",
    "        else:\n",
    "            pos += 1\n",
    "    if pos == 10:\n",
    "        pos = 'Not Found!!'\n",
    "    return found,pos\n",
    "\n",
    "def linear_search3(list,target):\n",
    "    for i in range(0,len(list)):\n",
    "        if list[i] == target:\n",
    "            return i     \n",
    "    return None    \n",
    "\n",
    "\n",
    "linear_search3(alist,target)"
   ]
  },
  {
   "cell_type": "code",
   "execution_count": 12,
   "metadata": {},
   "outputs": [
    {
     "data": {
      "text/plain": [
       "False"
      ]
     },
     "execution_count": 12,
     "metadata": {},
     "output_type": "execute_result"
    }
   ],
   "source": [
    "# Binary Search \n",
    "alist = [17,20,26,31,44,54,55,65,77,93]\n",
    "target = 92\n",
    "def binary_Search_recursive(alist,target):\n",
    "    if len(alist) == 0:\n",
    "        return False\n",
    "    else:\n",
    "        midpoint = len(alist) // 2\n",
    "        if alist[midpoint] == target:\n",
    "            return True\n",
    "        else:\n",
    "            if target < alist[midpoint]:\n",
    "                return binary_Search_recursive(alist[:midpoint],target)\n",
    "            else:\n",
    "                return binary_Search_recursive(alist[midpoint+1:],target)\n",
    "\n",
    "\n",
    "binary_Search_recursive(alist,target)\n",
    "\n"
   ]
  },
  {
   "cell_type": "code",
   "execution_count": 11,
   "metadata": {},
   "outputs": [
    {
     "data": {
      "text/plain": [
       "'Not Found!!'"
      ]
     },
     "execution_count": 11,
     "metadata": {},
     "output_type": "execute_result"
    }
   ],
   "source": [
    "alist = [17,20,26,31,44,54,55,65,77,93]\n",
    "target = 92\n",
    "\n",
    "def binary_search_3(list, target):\n",
    "    first = 0\n",
    "    last = len(list) - 1\n",
    "\n",
    "    while first <= last:\n",
    "        midpoint = (first + last)//2\n",
    "        if list[midpoint] == target:\n",
    "            return midpoint\n",
    "        elif list[midpoint] < target:\n",
    "            first = midpoint+1\n",
    "        else:\n",
    "            last = midpoint-1\n",
    "    return -1\n",
    "def binary_search(alist,target):\n",
    "    first = 0 \n",
    "    last = len(alist)-1\n",
    "\n",
    "    while first <= last:\n",
    "        midpoint = (first + last) // 2\n",
    "        if alist[midpoint] == target:\n",
    "            return midpoint\n",
    "        elif alist[midpoint] < target:\n",
    "            first = midpoint + 1\n",
    "        else:\n",
    "            last = midpoint - 1\n",
    "    return 'Not Found!!'\n",
    "#binary_search_3(alist,target)\n",
    "binary_search(alist,target)"
   ]
  },
  {
   "cell_type": "code",
   "execution_count": 22,
   "metadata": {},
   "outputs": [
    {
     "name": "stdout",
     "output_type": "stream",
     "text": [
      "{'M', 'R', 'I', 'A', 'H', 'D'}\n",
      "{'L', 'I', 'S', 'A', 'H'}\n",
      "{'H', 'I', 'A'}\n",
      "{'H', 'I', 'A'}\n"
     ]
    }
   ],
   "source": [
    "# write a Python Program to find out common letters between two strings \n",
    "# i.e. NAINA, REENE\n",
    "def find_common_letters(str1,str2):\n",
    "    common_letters = []\n",
    "    for letter in str1:\n",
    "        if letter in str2 and letter not in common_letters:\n",
    "            common_letters.append(letter)\n",
    "    return common_letters\n",
    "def common_letters(str1,str2):\n",
    "    s1 = set(str1)\n",
    "    print(s1)\n",
    "    s2 = set(str2)\n",
    "    print(s2)\n",
    "    ist = s1 & s2\n",
    "    print(ist)\n",
    "    return ist\n",
    "\n",
    "# ans1 = find_common_letters('HIMADRI', 'SHILA')\n",
    "ans2 = common_letters('HIMADRI', 'SHILAA')\n",
    "# print(ans1)\n",
    "print(ans2)"
   ]
  },
  {
   "cell_type": "code",
   "execution_count": 28,
   "metadata": {},
   "outputs": [
    {
     "name": "stdout",
     "output_type": "stream",
     "text": [
      "{'S': 1, 'h': 1, 'e': 10, 'n': 7, 'a': 10, ' ': 13, 'l': 5, 'o': 5, 'v': 2, 's': 5, 't': 3, 'i': 3, 'g': 4, 'p': 4, 'd': 2, 'm': 2, '.': 1, 'H': 1, 'r': 2}\n"
     ]
    }
   ],
   "source": [
    "# write a program to count the frequency of letters appearing in a string\n",
    "\n",
    "def freq_count(str1):\n",
    "    freq = {}\n",
    "    for letter in str1:\n",
    "        if letter in freq:\n",
    "            freq[letter] += 1\n",
    "        else:\n",
    "            freq[letter] = 1\n",
    "    return freq\n",
    "\n",
    "answer = freq_count('Sheena loves eating apple and mango. Her sister also loves eating apple and mango')\n",
    "print(answer)"
   ]
  },
  {
   "cell_type": "code",
   "execution_count": 40,
   "metadata": {},
   "outputs": [
    {
     "name": "stdout",
     "output_type": "stream",
     "text": [
      "{'Sheena': 1, 'loves': 2, 'eating': 2, 'apple': 2, 'and': 2, 'mango': 2, '.': 1, 'Her': 1, 'sister': 1, 'also': 1}\n"
     ]
    }
   ],
   "source": [
    "# write a program to count the frequency of words appearing in a string\n",
    "test_string = 'Sheena loves eating apple and mango . Her sister also loves eating apple and mango'\n",
    "# test_string_list = test_string.split()\n",
    "# print(type(test_string_list)) # splits each word\n",
    "# print(test_string_list) # returns a list\n",
    "def feq_words(str1):\n",
    "    test_str = str1.split()\n",
    "    word_freq = {}\n",
    "    for words in test_str:\n",
    "        if words in word_freq:\n",
    "            word_freq[words] += 1\n",
    "        else:\n",
    "            word_freq[words] = 1\n",
    "    return word_freq\n",
    "\n",
    "answer = feq_words(test_string)\n",
    "print(answer)"
   ]
  },
  {
   "cell_type": "code",
   "execution_count": 39,
   "metadata": {},
   "outputs": [
    {
     "name": "stdout",
     "output_type": "stream",
     "text": [
      "<class 'dict'>\n",
      "searched key\n",
      "only keys\n"
     ]
    }
   ],
   "source": [
    "names = {'anupam':'prakash','bikrom':'kumar','nishant':'swapan'}\n",
    "print(type(names))\n",
    "if 'anupam' in names:\n",
    "    print('searched key')\n",
    "if 'anupam' in names.keys():\n",
    "    print('only keys')\n"
   ]
  },
  {
   "cell_type": "code",
   "execution_count": 42,
   "metadata": {},
   "outputs": [
    {
     "name": "stdout",
     "output_type": "stream",
     "text": [
      "{'naina': 34, 'sheela': 23, 'pooja': 17}\n"
     ]
    }
   ],
   "source": [
    "# write a python program to convert 2 list into dictionary:\n",
    "list1 = ['naina','sheela','pooja']\n",
    "list2 = [34,23,17]\n",
    "def list_to_dict(list1,list2):\n",
    "    result_dict = {}\n",
    "    for l1, l2 in zip(list1,list2):\n",
    "        result_dict[l1] = l2\n",
    "    return(result_dict)\n",
    "\n",
    "ans = list_to_dict(list1,list2)\n",
    "print(ans)\n",
    "\n",
    "# from dictionary to tuples\n",
    "def dict_to_tuple():\n",
    "    x = {1:'one',2:'two',3:'three'}\n",
    "    for i in x.items():\n",
    "        print(i)"
   ]
  },
  {
   "cell_type": "code",
   "execution_count": 49,
   "metadata": {},
   "outputs": [
    {
     "name": "stdout",
     "output_type": "stream",
     "text": [
      "5.0\n"
     ]
    }
   ],
   "source": [
    "# find missing no in an array - using summation and XOR operation\n",
    "# [1,2,4,5,6,7] - 3 is missing\n",
    "\n",
    "# solution :\n",
    "# sum of n natural no: n*(n+1)/2\n",
    "# sum of nos in an array \n",
    "# now substract them \n",
    "alist = [1,2,3,4,6,7] \n",
    "# summation method \n",
    "def missing_no(alist):\n",
    "    max = alist[len(alist)-1]\n",
    "    sum_total = max*(max+1)/2\n",
    "    sum_array = 0\n",
    "    for ele in alist:\n",
    "        sum_array += ele\n",
    "    missing_val = sum_total - sum_array\n",
    "    return missing_val\n",
    "    \n",
    "\n",
    "res = missing_no(alist)\n",
    "print(res)"
   ]
  }
 ],
 "metadata": {
  "kernelspec": {
   "display_name": "Python 3",
   "language": "python",
   "name": "python3"
  },
  "language_info": {
   "codemirror_mode": {
    "name": "ipython",
    "version": 3
   },
   "file_extension": ".py",
   "mimetype": "text/x-python",
   "name": "python",
   "nbconvert_exporter": "python",
   "pygments_lexer": "ipython3",
   "version": "3.10.0"
  },
  "orig_nbformat": 4
 },
 "nbformat": 4,
 "nbformat_minor": 2
}
