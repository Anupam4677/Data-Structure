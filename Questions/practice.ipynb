{
 "cells": [
  {
   "cell_type": "code",
   "execution_count": 6,
   "metadata": {},
   "outputs": [
    {
     "data": {
      "text/plain": [
       "1"
      ]
     },
     "execution_count": 6,
     "metadata": {},
     "output_type": "execute_result"
    }
   ],
   "source": [
    "# Given an integer if a no is prime return 1 .\n",
    "# Otherwise return the smallest divisor greater than 1 \n",
    "\n",
    "def is_prime(num):\n",
    "    flag = True\n",
    "    for ele in range(2,num):\n",
    "        if num % ele == 0:\n",
    "            flag = False\n",
    "            break\n",
    "    if flag == False:\n",
    "        return ele\n",
    "    else:\n",
    "        return 1\n",
    "\n",
    "\n",
    "is_prime(11)"
   ]
  },
  {
   "cell_type": "code",
   "execution_count": 9,
   "metadata": {},
   "outputs": [
    {
     "data": {
      "text/plain": [
       "True"
      ]
     },
     "execution_count": 9,
     "metadata": {},
     "output_type": "execute_result"
    }
   ],
   "source": [
    "# anagram\n",
    "def anagramSolution(s1,s2):\n",
    "    stillok = True\n",
    "    alist = list(s2)\n",
    "    pos1 = 0\n",
    "    while pos1 < len(s1) and stillok:\n",
    "        pos2 = 0\n",
    "        found = False\n",
    "        while pos2 < len(alist) and not found:\n",
    "            if s1[pos1] == alist[pos2]:\n",
    "                found = True\n",
    "            else:\n",
    "                pos2 = pos2+1\n",
    "        if found:\n",
    "             alist[pos2] = None\n",
    "        else:\n",
    "            stillok = False\n",
    "        pos1 = pos1+1\n",
    "\n",
    "    return stillok\n",
    "\n",
    "anagramSolution('fried','fired')\n"
   ]
  },
  {
   "cell_type": "code",
   "execution_count": 15,
   "metadata": {},
   "outputs": [
    {
     "data": {
      "text/plain": [
       "True"
      ]
     },
     "execution_count": 15,
     "metadata": {},
     "output_type": "execute_result"
    }
   ],
   "source": [
    "# two strings are anagrams if they are made up of same charaters with the same frequency \n",
    "# calculate : freq1 and freq2 for charaters of s1 and s2\n",
    "# freq1 = freq2\n",
    "\n",
    "def freq_anagram(s1,s2):\n",
    "    if len(s1) != len(s2):\n",
    "        return False\n",
    "    freq1 = {}\n",
    "    freq2 = {}\n",
    "    for ch in s1:\n",
    "        if ch in freq1:\n",
    "            freq1[ch] += 1\n",
    "        else:\n",
    "            freq1[ch] = 1 \n",
    "    for ch in s2:\n",
    "        if ch in freq2:\n",
    "            freq2[ch] += 1\n",
    "        else:\n",
    "            freq2[ch] = 1 \n",
    "    if freq1 == freq2:\n",
    "        return True\n",
    "    else:\n",
    "        return False\n",
    "freq_anagram('fried','fired')"
   ]
  },
  {
   "cell_type": "code",
   "execution_count": 12,
   "metadata": {},
   "outputs": [
    {
     "data": {
      "text/plain": [
       "True"
      ]
     },
     "execution_count": 12,
     "metadata": {},
     "output_type": "execute_result"
    }
   ],
   "source": [
    "from collections import Counter \n",
    "\n",
    "def are_anagrams_counter(s1,s2):\n",
    "    if len(s1) != len(s2):\n",
    "        return False\n",
    "    return Counter(s1) == Counter(s2)\n",
    "are_anagrams_counter('nameless','salesmen')"
   ]
  },
  {
   "cell_type": "code",
   "execution_count": 13,
   "metadata": {},
   "outputs": [
    {
     "data": {
      "text/plain": [
       "True"
      ]
     },
     "execution_count": 13,
     "metadata": {},
     "output_type": "execute_result"
    }
   ],
   "source": [
    "# Two anagrams will have same lexicographically srted string \n",
    "\n",
    "def are_anagrams_counter(s1,s2):\n",
    "    if len(s1) != len(s2):\n",
    "        return False\n",
    "    return sorted(s1) == sorted(s2)\n",
    "are_anagrams_counter('fried','fired')"
   ]
  },
  {
   "cell_type": "code",
   "execution_count": 14,
   "metadata": {},
   "outputs": [
    {
     "name": "stdout",
     "output_type": "stream",
     "text": [
      "['f', 'i', 'r', 'e', 'd']\n"
     ]
    }
   ],
   "source": [
    "aa = 'fired'\n",
    "ab = list(aa)\n",
    "print(ab)"
   ]
  },
  {
   "cell_type": "code",
   "execution_count": 22,
   "metadata": {},
   "outputs": [
    {
     "data": {
      "text/plain": [
       "[-1, -1]"
      ]
     },
     "execution_count": 22,
     "metadata": {},
     "output_type": "execute_result"
    }
   ],
   "source": [
    "# Question - 3\n",
    "# First and last position problem \n",
    "# given a sorted array of integers arr and an integer target ,find the index of first and last position of target in arr \n",
    "# in taget cannot be found in array return [-1,-1]\n",
    "arr = [2,4,5,5,5,5,5,7,9,9]\n",
    "target = 5\n",
    "output = [2,6]\n",
    "def find_index(arr,target):\n",
    "    for index in range(len(arr)):\n",
    "        if arr[index] == target:\n",
    "            first_index = index\n",
    "            while index+1 < len(arr) and arr[index+1] == target:\n",
    "                index += 1\n",
    "            return first_index,index\n",
    "    return [-1,-1]\n",
    "find_index(arr,8)\n"
   ]
  },
  {
   "cell_type": "code",
   "execution_count": 34,
   "metadata": {},
   "outputs": [
    {
     "data": {
      "text/plain": [
       "7"
      ]
     },
     "execution_count": 34,
     "metadata": {},
     "output_type": "execute_result"
    }
   ],
   "source": [
    "# given an array of integers arr and an integer k ,find the kth largest element \n",
    "input = [4,2,9,7,5,6,7,1,3]\n",
    "k = 4 \n",
    "# 1st largest element = 9\n",
    "# 2nd largest element = 7\n",
    "# 3rd largest element = 7\n",
    "# 4th largest element = 6\n",
    "def kth_integer(alist,k):\n",
    "    for index in range(1,len(alist)):\n",
    "        current_val = alist[index]\n",
    "        position = index\n",
    "        while position > 0 and alist[position-1] > current_val:\n",
    "            alist[position] = alist[position-1]\n",
    "            position = position - 1\n",
    "        alist[position] = current_val\n",
    "      \n",
    "    result = alist[k-1]\n",
    "\n",
    "    return result\n",
    "kth_integer(input,-1)"
   ]
  },
  {
   "cell_type": "code",
   "execution_count": 28,
   "metadata": {},
   "outputs": [
    {
     "data": {
      "text/plain": [
       "[17, 20, 26, 31, 44, 54, 55, 77, 93]"
      ]
     },
     "execution_count": 28,
     "metadata": {},
     "output_type": "execute_result"
    }
   ],
   "source": [
    "# insertion sort \n",
    "alist = [17,26,54,77,93,31,44,55,20]\n",
    "def insertion_Sort(alist):\n",
    "    for index in range(1,len(alist)):\n",
    "        current_val = alist[index]\n",
    "        position = index\n",
    "        while position > 0 and alist[position-1] > current_val:\n",
    "            alist[position] = alist[position-1]\n",
    "            position = position - 1\n",
    "        alist[position] = current_val\n",
    "    return alist\n",
    "\n",
    "insertion_Sort(alist)"
   ]
  },
  {
   "cell_type": "code",
   "execution_count": null,
   "metadata": {},
   "outputs": [],
   "source": []
  },
  {
   "cell_type": "code",
   "execution_count": 1,
   "metadata": {},
   "outputs": [
    {
     "data": {
      "text/plain": [
       "False"
      ]
     },
     "execution_count": 1,
     "metadata": {},
     "output_type": "execute_result"
    }
   ],
   "source": [
    "def anagram(s1,s2):\n",
    "    if len(s1) == len(s2):\n",
    "        return False\n",
    "    freq1 = {}\n",
    "    freq2 = {}\n",
    "    for ch in s1:\n",
    "        if ch in freq1:\n",
    "            freq1[ch] += 1\n",
    "        else:\n",
    "            freq1[ch] = 0\n",
    "    for ch in s2:\n",
    "        if ch in freq2:\n",
    "            freq2[ch] += 1\n",
    "        else:\n",
    "            freq2[ch] = 0\n",
    "    if freq1 == freq2:\n",
    "        return True\n",
    "    else:\n",
    "        return False\n",
    "    \n",
    "anagram('python','typhon')"
   ]
  },
  {
   "cell_type": "code",
   "execution_count": null,
   "metadata": {},
   "outputs": [],
   "source": [
    "\n",
    "alist = ['Bill','David','Susan','Jane','Kent','Brad']\n",
    "# alist = ['Brad','Kent','Jane','Susan','David','Bill']\n",
    "from pythonds.basic import Queue\n",
    "def hot_potato(alist,num):\n",
    "    simqueue = Queue()\n",
    "    for name in alist:\n",
    "        simqueue.enqueue(name)\n",
    "    # simqueue = ['Brad','Kent','Jane','Susan','David','Bill']\n",
    "    while simqueue.size() > 1:\n",
    "        for i in range(num):\n",
    "            # here the list is modified also\n",
    "            # bill is deleted and now the updated lsit simqueue is ['Brad','Kent','Jane','Susan','David']\n",
    "            # bill is inseter at position one with enqueue = simqueue = ['Bill','Brad','Kent','Jane','Susan','David']\n",
    "            simqueue.enqueue(simqueue.dequeue())\n",
    "        simqueue.dequeue()\n",
    "    return simqueue.dequeue()\n",
    "\n",
    "res = hot_potato(alist,7)\n",
    "print(res)"
   ]
  },
  {
   "cell_type": "code",
   "execution_count": 18,
   "metadata": {},
   "outputs": [],
   "source": [
    "class minHeap:\n",
    "    def __init__(self,capacity):\n",
    "        self.storage = [0] * capacity\n",
    "        self.capacity = capacity\n",
    "        self.size = 0\n",
    "    \n",
    "    def getParentIndex(self,index):\n",
    "        return int((index-1)/2)\n",
    "    def getLeftChildIndex(self,index):\n",
    "        return (2 * index) + 1\n",
    "    def getRightChildIndex(self,index):\n",
    "        return (2 * index) + 2\n",
    "    def hasParent(self,index):\n",
    "        return self.getParentIndex(index)\n",
    "    def hasLeftChild(self,index):\n",
    "        return self.getLeftChildIndex(index) < self.size\n",
    "    def hasRightChild(self,index):\n",
    "        return self.getRightChildIndex(index) < self.size\n",
    "    def getParent(self,index):\n",
    "        # print(f\"parent:{self.storage[self.getParentIndex(index)]}\")\n",
    "        return self.storage[self.getParentIndex(index)]\n",
    "    def getLeftChild(self,index):\n",
    "        return self.storage[self.getLeftChildIndex(index)]\n",
    "    def getRightChild(self,index):\n",
    "        return self.storage[self.getRightChildIndex(index)]\n",
    "    def isFull(self):\n",
    "        self.size == self.capacity\n",
    "\n",
    "    def swap(self,index1,index2):\n",
    "        temp = self.storage[index1]\n",
    "        self.storage[index1] = self.storage[index2]\n",
    "        self.storage[index2] = temp\n",
    "    \n",
    "    def insert(self,data):\n",
    "        if (self.isFull()):\n",
    "            raise(\"Heap is Full\")\n",
    "         # insert the data into the last available position \n",
    "        self.storage[self.size] = data\n",
    "        self.size += 1\n",
    "        # self.heapifyUp()\n",
    "        self.heapifyUp(self.size-1)\n",
    "\n",
    "    def heapifyUp(self,index):\n",
    "        # print(f\"Index - {index}\")\n",
    "        # print(f\"has-parent - {self.hasParent(index)}\")\n",
    "        # print(f\"get-parent - {self.getParent(index)}\")\n",
    "        print(f\"storage-index should be smaller than above - {self.storage[index]}\")\n",
    "        if(self.hasParent(index) and self.getParent(index) > self.storage[index]):\n",
    "            self.swap(self.getParentIndex(index),index)\n",
    "            # print(f\"Heapify up - {self.getParent(index)}\")\n",
    "            self.heapifyUp(self.getParentIndex(index))\n",
    "\n",
    "    def removeMin(self):\n",
    "     \n",
    "        # removes and returns the min element\"\n",
    "        if (self.size == 0):\n",
    "            raise('Empty Heap')\n",
    "        \n",
    "        data = self.storage[0]\n",
    "        self.storage[0] = self.storage[self.size-1]\n",
    "        self.size -= 1\n",
    "        self.heapifyDown(0)\n",
    "        return data\n",
    "    \n",
    "    def heapifyDown(self,index):\n",
    "        smallest = index\n",
    "        # the reson we also see left child bcoz a heap is a complete tree\n",
    "        # if it dosent have a left child it has no possibilty to have a right child \n",
    "        if self.hasLeftChild(index) and self.storage[smallest]>self.getLeftChild(index):\n",
    "            smallest = self.getLeftChildIndex(index)\n",
    "        if self.hasRightChild(index) and self.storage[smallest]>self.getRightChild(index):\n",
    "            smallest = self.getRightChildIndex(index)\n",
    "        if smallest!=index:\n",
    "            self.swap(index,smallest)\n",
    "            self.heapifyDown(smallest) \n",
    "\n",
    "    \n",
    "    \n",
    "\n"
   ]
  },
  {
   "cell_type": "code",
   "execution_count": 19,
   "metadata": {},
   "outputs": [
    {
     "name": "stdout",
     "output_type": "stream",
     "text": [
      "[0, 0, 0, 0, 0, 0, 0]\n",
      "storage-index should be smaller than above - 10\n",
      "storage-index should be smaller than above - 5\n",
      "storage-index should be smaller than above - 1\n",
      "storage-index should be smaller than above - 20\n",
      "storage-index should be smaller than above - 13\n",
      "storage-index should be smaller than above - 11\n",
      "storage-index should be smaller than above - 19\n",
      "[10, 5, 1, 20, 13, 11, 19]\n"
     ]
    }
   ],
   "source": [
    "demo_min_heap = minHeap(7)\n",
    "print(demo_min_heap.storage)\n",
    "demo_min_heap.insert(10)\n",
    "demo_min_heap.insert(5)\n",
    "demo_min_heap.insert(1)\n",
    "demo_min_heap.insert(20)\n",
    "demo_min_heap.insert(13)\n",
    "demo_min_heap.insert(11)\n",
    "demo_min_heap.insert(19)\n",
    "print(demo_min_heap.storage)\n",
    "# demo_min_heap.insert(20)\n",
    "# demo_min_heap.insert(5)"
   ]
  },
  {
   "cell_type": "code",
   "execution_count": 21,
   "metadata": {},
   "outputs": [
    {
     "name": "stdout",
     "output_type": "stream",
     "text": [
      "Minimum: 1\n",
      "Storage: [5, 13, 11, 20, 19, 19, 19]\n",
      "capacity: 7\n",
      "size: 5\n"
     ]
    }
   ],
   "source": [
    "min_res = demo_min_heap.removeMin()\n",
    "print(f\"Minimum: {min_res}\")\n",
    "print(f\"Storage: {demo_min_heap.storage}\")\n",
    "print(f\"capacity: {demo_min_heap.capacity}\")\n",
    "print(f\"size: {demo_min_heap.size}\")"
   ]
  },
  {
   "cell_type": "code",
   "execution_count": 22,
   "metadata": {},
   "outputs": [
    {
     "name": "stdout",
     "output_type": "stream",
     "text": [
      "Minimum: 5\n",
      "Storage: [11, 13, 19, 20, 19, 19, 19]\n",
      "capacity: 7\n",
      "size: 4\n"
     ]
    }
   ],
   "source": [
    "min_res = demo_min_heap.removeMin()\n",
    "print(f\"Minimum: {min_res}\")\n",
    "print(f\"Storage: {demo_min_heap.storage}\")\n",
    "print(f\"capacity: {demo_min_heap.capacity}\")\n",
    "print(f\"size: {demo_min_heap.size}\")"
   ]
  },
  {
   "cell_type": "code",
   "execution_count": 23,
   "metadata": {},
   "outputs": [
    {
     "name": "stdout",
     "output_type": "stream",
     "text": [
      "Minimum: 11\n",
      "Storage: [13, 20, 19, 20, 19, 19, 19]\n",
      "capacity: 7\n",
      "size: 3\n"
     ]
    }
   ],
   "source": [
    "min_res = demo_min_heap.removeMin()\n",
    "print(f\"Minimum: {min_res}\")\n",
    "print(f\"Storage: {demo_min_heap.storage}\")\n",
    "print(f\"capacity: {demo_min_heap.capacity}\")\n",
    "print(f\"size: {demo_min_heap.size}\")"
   ]
  }
 ],
 "metadata": {
  "kernelspec": {
   "display_name": "Python 3",
   "language": "python",
   "name": "python3"
  },
  "language_info": {
   "codemirror_mode": {
    "name": "ipython",
    "version": 3
   },
   "file_extension": ".py",
   "mimetype": "text/x-python",
   "name": "python",
   "nbconvert_exporter": "python",
   "pygments_lexer": "ipython3",
   "version": "3.10.0"
  },
  "orig_nbformat": 4
 },
 "nbformat": 4,
 "nbformat_minor": 2
}
