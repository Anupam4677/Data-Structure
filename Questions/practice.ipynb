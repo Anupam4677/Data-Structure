{
 "cells": [
  {
   "cell_type": "code",
   "execution_count": 6,
   "metadata": {},
   "outputs": [
    {
     "data": {
      "text/plain": [
       "1"
      ]
     },
     "execution_count": 6,
     "metadata": {},
     "output_type": "execute_result"
    }
   ],
   "source": [
    "# Given an integer if a no is prime return 1 .\n",
    "# Otherwise return the smallest divisor greater than 1 \n",
    "\n",
    "def is_prime(num):\n",
    "    flag = True\n",
    "    for ele in range(2,num):\n",
    "        if num % ele == 0:\n",
    "            flag = False\n",
    "            break\n",
    "    if flag == False:\n",
    "        return ele\n",
    "    else:\n",
    "        return 1\n",
    "\n",
    "\n",
    "is_prime(11)"
   ]
  },
  {
   "cell_type": "code",
   "execution_count": 9,
   "metadata": {},
   "outputs": [
    {
     "data": {
      "text/plain": [
       "True"
      ]
     },
     "execution_count": 9,
     "metadata": {},
     "output_type": "execute_result"
    }
   ],
   "source": [
    "# anagram\n",
    "def anagramSolution(s1,s2):\n",
    "    stillok = True\n",
    "    alist = list(s2)\n",
    "    pos1 = 0\n",
    "    while pos1 < len(s1) and stillok:\n",
    "        pos2 = 0\n",
    "        found = False\n",
    "        while pos2 < len(alist) and not found:\n",
    "            if s1[pos1] == alist[pos2]:\n",
    "                found = True\n",
    "            else:\n",
    "                pos2 = pos2+1\n",
    "        if found:\n",
    "             alist[pos2] = None\n",
    "        else:\n",
    "            stillok = False\n",
    "        pos1 = pos1+1\n",
    "\n",
    "    return stillok\n",
    "\n",
    "anagramSolution('fried','fired')\n"
   ]
  },
  {
   "cell_type": "code",
   "execution_count": 15,
   "metadata": {},
   "outputs": [
    {
     "data": {
      "text/plain": [
       "True"
      ]
     },
     "execution_count": 15,
     "metadata": {},
     "output_type": "execute_result"
    }
   ],
   "source": [
    "# two strings are anagrams if they are made up of same charaters with the same frequency \n",
    "# calculate : freq1 and freq2 for charaters of s1 and s2\n",
    "# freq1 = freq2\n",
    "\n",
    "def freq_anagram(s1,s2):\n",
    "    if len(s1) != len(s2):\n",
    "        return False\n",
    "    freq1 = {}\n",
    "    freq2 = {}\n",
    "    for ch in s1:\n",
    "        if ch in freq1:\n",
    "            freq1[ch] += 1\n",
    "        else:\n",
    "            freq1[ch] = 1 \n",
    "    for ch in s2:\n",
    "        if ch in freq2:\n",
    "            freq2[ch] += 1\n",
    "        else:\n",
    "            freq2[ch] = 1 \n",
    "    if freq1 == freq2:\n",
    "        return True\n",
    "    else:\n",
    "        return False\n",
    "freq_anagram('fried','fired')"
   ]
  },
  {
   "cell_type": "code",
   "execution_count": 12,
   "metadata": {},
   "outputs": [
    {
     "data": {
      "text/plain": [
       "True"
      ]
     },
     "execution_count": 12,
     "metadata": {},
     "output_type": "execute_result"
    }
   ],
   "source": [
    "from collections import Counter \n",
    "\n",
    "def are_anagrams_counter(s1,s2):\n",
    "    if len(s1) != len(s2):\n",
    "        return False\n",
    "    return Counter(s1) == Counter(s2)\n",
    "are_anagrams_counter('nameless','salesmen')"
   ]
  },
  {
   "cell_type": "code",
   "execution_count": 13,
   "metadata": {},
   "outputs": [
    {
     "data": {
      "text/plain": [
       "True"
      ]
     },
     "execution_count": 13,
     "metadata": {},
     "output_type": "execute_result"
    }
   ],
   "source": [
    "# Two anagrams will have same lexicographically srted string \n",
    "\n",
    "def are_anagrams_counter(s1,s2):\n",
    "    if len(s1) != len(s2):\n",
    "        return False\n",
    "    return sorted(s1) == sorted(s2)\n",
    "are_anagrams_counter('fried','fired')"
   ]
  },
  {
   "cell_type": "code",
   "execution_count": 14,
   "metadata": {},
   "outputs": [
    {
     "name": "stdout",
     "output_type": "stream",
     "text": [
      "['f', 'i', 'r', 'e', 'd']\n"
     ]
    }
   ],
   "source": [
    "aa = 'fired'\n",
    "ab = list(aa)\n",
    "print(ab)"
   ]
  },
  {
   "cell_type": "code",
   "execution_count": 22,
   "metadata": {},
   "outputs": [
    {
     "data": {
      "text/plain": [
       "[-1, -1]"
      ]
     },
     "execution_count": 22,
     "metadata": {},
     "output_type": "execute_result"
    }
   ],
   "source": [
    "# Question - 3\n",
    "# First and last position problem \n",
    "# given a sorted array of integers arr and an integer target ,find the index of first and last position of target in arr \n",
    "# in taget cannot be found in array return [-1,-1]\n",
    "arr = [2,4,5,5,5,5,5,7,9,9]\n",
    "target = 5\n",
    "output = [2,6]\n",
    "def find_index(arr,target):\n",
    "    for index in range(len(arr)):\n",
    "        if arr[index] == target:\n",
    "            first_index = index\n",
    "            while index+1 < len(arr) and arr[index+1] == target:\n",
    "                index += 1\n",
    "            return first_index,index\n",
    "    return [-1,-1]\n",
    "find_index(arr,8)\n"
   ]
  },
  {
   "cell_type": "code",
   "execution_count": 34,
   "metadata": {},
   "outputs": [
    {
     "data": {
      "text/plain": [
       "7"
      ]
     },
     "execution_count": 34,
     "metadata": {},
     "output_type": "execute_result"
    }
   ],
   "source": [
    "# given an array of integers arr and an integer k ,find the kth largest element \n",
    "input = [4,2,9,7,5,6,7,1,3]\n",
    "k = 4 \n",
    "# 1st largest element = 9\n",
    "# 2nd largest element = 7\n",
    "# 3rd largest element = 7\n",
    "# 4th largest element = 6\n",
    "def kth_integer(alist,k):\n",
    "    for index in range(1,len(alist)):\n",
    "        current_val = alist[index]\n",
    "        position = index\n",
    "        while position > 0 and alist[position-1] > current_val:\n",
    "            alist[position] = alist[position-1]\n",
    "            position = position - 1\n",
    "        alist[position] = current_val\n",
    "      \n",
    "    result = alist[k-1]\n",
    "\n",
    "    return result\n",
    "kth_integer(input,-1)"
   ]
  },
  {
   "cell_type": "code",
   "execution_count": 28,
   "metadata": {},
   "outputs": [
    {
     "data": {
      "text/plain": [
       "[17, 20, 26, 31, 44, 54, 55, 77, 93]"
      ]
     },
     "execution_count": 28,
     "metadata": {},
     "output_type": "execute_result"
    }
   ],
   "source": [
    "# insertion sort \n",
    "alist = [17,26,54,77,93,31,44,55,20]\n",
    "def insertion_Sort(alist):\n",
    "    for index in range(1,len(alist)):\n",
    "        current_val = alist[index]\n",
    "        position = index\n",
    "        while position > 0 and alist[position-1] > current_val:\n",
    "            alist[position] = alist[position-1]\n",
    "            position = position - 1\n",
    "        alist[position] = current_val\n",
    "    return alist\n",
    "\n",
    "insertion_Sort(alist)"
   ]
  },
  {
   "cell_type": "code",
   "execution_count": null,
   "metadata": {},
   "outputs": [],
   "source": []
  },
  {
   "cell_type": "code",
   "execution_count": 1,
   "metadata": {},
   "outputs": [
    {
     "data": {
      "text/plain": [
       "False"
      ]
     },
     "execution_count": 1,
     "metadata": {},
     "output_type": "execute_result"
    }
   ],
   "source": [
    "def anagram(s1,s2):\n",
    "    if len(s1) == len(s2):\n",
    "        return False\n",
    "    freq1 = {}\n",
    "    freq2 = {}\n",
    "    for ch in s1:\n",
    "        if ch in freq1:\n",
    "            freq1[ch] += 1\n",
    "        else:\n",
    "            freq1[ch] = 0\n",
    "    for ch in s2:\n",
    "        if ch in freq2:\n",
    "            freq2[ch] += 1\n",
    "        else:\n",
    "            freq2[ch] = 0\n",
    "    if freq1 == freq2:\n",
    "        return True\n",
    "    else:\n",
    "        return False\n",
    "    \n",
    "anagram('python','typhon')"
   ]
  }
 ],
 "metadata": {
  "kernelspec": {
   "display_name": "Python 3",
   "language": "python",
   "name": "python3"
  },
  "language_info": {
   "codemirror_mode": {
    "name": "ipython",
    "version": 3
   },
   "file_extension": ".py",
   "mimetype": "text/x-python",
   "name": "python",
   "nbconvert_exporter": "python",
   "pygments_lexer": "ipython3",
   "version": "3.10.0"
  },
  "orig_nbformat": 4
 },
 "nbformat": 4,
 "nbformat_minor": 2
}
