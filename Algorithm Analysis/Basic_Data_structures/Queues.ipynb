{
 "cells": [
  {
   "cell_type": "code",
   "execution_count": null,
   "metadata": {},
   "outputs": [],
   "source": [
    "# another linear data structure \n",
    "# An ordered collection if items where the addition of items happen at one end rear\n",
    "#  the removal of existing items happen in the front end \n",
    "# As element enter a queue it starts at the rear and makes its way toward the front \n",
    "# - waiting untill the time when it is the next element to be removed \n",
    "# the most recently added item has to wait at the end of the collection \n",
    "# the item that has been the longest is in the front \n",
    "# ordering principle - FIFO - firs-in first-out\n"
   ]
  },
  {
   "cell_type": "code",
   "execution_count": null,
   "metadata": {},
   "outputs": [],
   "source": [
    "# The Queue abstract datatype\n",
    "# The abstract data type is defined by the following structure and operations\n",
    "# A queuee is structured , as in ordered collection of items which are added at one end 'rear' and removed from other end called front \n",
    "# \n",
    "# Queue() - creates a new queue that is empty.needs no parameter and return an empty queue()\n",
    "# enqueue(item) - add a new item at rear of the queue. it needs the item and return nothing \n",
    "# dequeue() - removes the front item from the queue.it needs no parameter and returns the item. The queue is modified\n",
    "# isEmpty() - tests to see whether a queue is empty. it needs no parameter and return boolean value \n",
    "# size() - returns the no of items in a queue . It needs no parameter abd return an integer\n"
   ]
  },
  {
   "cell_type": "code",
   "execution_count": 32,
   "metadata": {},
   "outputs": [],
   "source": [
    "#['d','c','b','a']\n",
    "# d is rear\n",
    "# pop will give a\n",
    "class Queue:\n",
    "    def __init__(self):\n",
    "        self.items = []\n",
    "    def isEmpty(self):\n",
    "        return self.items == []\n",
    "    # enque dsent have return as it returns nothing\n",
    "    def enqueue(self,item):\n",
    "        self.items.insert(0,item)\n",
    "    def dequeue(self):\n",
    "        return self.items.pop()\n",
    "    def size(self):\n",
    "        return len(self.items)"
   ]
  },
  {
   "cell_type": "code",
   "execution_count": 42,
   "metadata": {},
   "outputs": [
    {
     "name": "stdout",
     "output_type": "stream",
     "text": [
      "Is Empty:True\n",
      "size_new:0\n",
      "size_new:3\n",
      "Is Empty_new:False\n",
      "size_new_2:3\n"
     ]
    }
   ],
   "source": [
    "q=Queue()\n",
    "\n",
    "# print(q.isEmpty())\n",
    "print(f\"Is Empty:{q.isEmpty()}\")\n",
    "print(f\"size_new:{q.size()}\")\n",
    "q.enqueue('dog')\n",
    "q.enqueue(4)\n",
    "q.enqueue('True')\n",
    "print(f\"size_new:{q.size()}\")\n",
    "print(f\"Is Empty_new:{q.isEmpty()}\")\n",
    "q.enqueue(8.4)\n",
    "q.dequeue()\n",
    "print(f\"size_new_2:{q.size()}\")\n",
    "\n"
   ]
  }
 ],
 "metadata": {
  "kernelspec": {
   "display_name": "Python 3",
   "language": "python",
   "name": "python3"
  },
  "language_info": {
   "codemirror_mode": {
    "name": "ipython",
    "version": 3
   },
   "file_extension": ".py",
   "mimetype": "text/x-python",
   "name": "python",
   "nbconvert_exporter": "python",
   "pygments_lexer": "ipython3",
   "version": "3.10.0"
  },
  "orig_nbformat": 4
 },
 "nbformat": 4,
 "nbformat_minor": 2
}
