{
 "cells": [
  {
   "cell_type": "code",
   "execution_count": null,
   "metadata": {},
   "outputs": [],
   "source": [
    "# another linear data structure \n",
    "# An ordered collection if items where the addition of items happen at one end rear\n",
    "#  the removal of existing items happen in the front end \n",
    "# As element enter a queue it starts at the rear and makes its way toward the front \n",
    "# - waiting untill the time when it is the next element to be removed \n",
    "# the most recently added item has to wait at the end of the collection \n",
    "# the item that has been the longest is in the front \n",
    "# ordering principle - FIFO - firs-in first-out\n"
   ]
  },
  {
   "cell_type": "code",
   "execution_count": null,
   "metadata": {},
   "outputs": [],
   "source": [
    "# The Queue abstract datatype\n",
    "# The abstract data type is defined by the following structure and operations\n",
    "# A queuee is structured , as in ordered collection of items which are added at one end 'rear' and removed from other end called front \n",
    "# \n",
    "# Queue() - creates a new queue that is empty.needs no parameter and return an empty queue()\n",
    "# enqueue(item) - add a new item at rear of the queue. it needs the item and return nothing \n",
    "# dequeue() - removes the front item from the queue.it needs no parameter and returns the item. The queue is modified\n",
    "# isEmpty() - tests to see whether a queue is empty. it needs no parameter and return boolean value \n",
    "# size() - returns the no of items in a queue . It needs no parameter abd return an integer\n"
   ]
  },
  {
   "cell_type": "code",
   "execution_count": 44,
   "metadata": {},
   "outputs": [
    {
     "name": "stdout",
     "output_type": "stream",
     "text": [
      "Is Empty:True\n",
      "size_new:0\n",
      "size_new:3\n",
      "Is Empty_new:False\n",
      "size_new_2:3\n"
     ]
    }
   ],
   "source": [
    "#['d','c','b','a']\n",
    "# d is rear\n",
    "# pop will give a\n",
    "class Queue:\n",
    "    def __init__(self):\n",
    "        self.items = []\n",
    "    def isEmpty(self):\n",
    "        return self.items == []\n",
    "    # enque dsent have return as it returns nothing\n",
    "    def enqueue(self,item):\n",
    "        self.items.insert(0,item)\n",
    "    def dequeue(self):\n",
    "        return self.items.pop()\n",
    "    def size(self):\n",
    "        return len(self.items)\n",
    "    \n",
    "q=Queue()\n",
    "# print(q.isEmpty())\n",
    "print(f\"Is Empty:{q.isEmpty()}\")\n",
    "print(f\"size_new:{q.size()}\")\n",
    "q.enqueue('dog')\n",
    "q.enqueue(4)\n",
    "q.enqueue('True')\n",
    "print(f\"size_new:{q.size()}\")\n",
    "print(f\"Is Empty_new:{q.isEmpty()}\")\n",
    "q.enqueue(8.4)\n",
    "q.dequeue()\n",
    "print(f\"size_new_2:{q.size()}\")"
   ]
  },
  {
   "cell_type": "code",
   "execution_count": 43,
   "metadata": {},
   "outputs": [
    {
     "name": "stdout",
     "output_type": "stream",
     "text": [
      "Is Empty:True\n",
      "size_new:0\n",
      "size_new:3\n",
      "Is Empty_new:False\n",
      "size_new_2:3\n"
     ]
    }
   ],
   "source": [
    "\n",
    "from pythonds.basic import Queue\n",
    "q=Queue()\n",
    "# print(q.isEmpty())\n",
    "print(f\"Is Empty:{q.isEmpty()}\")\n",
    "print(f\"size_new:{q.size()}\")\n",
    "q.enqueue('dog')\n",
    "q.enqueue(4)\n",
    "q.enqueue('True')\n",
    "print(f\"size_new:{q.size()}\")\n",
    "print(f\"Is Empty_new:{q.isEmpty()}\")\n",
    "q.enqueue(8.4)\n",
    "q.dequeue()\n",
    "print(f\"size_new_2:{q.size()}\")\n",
    "\n"
   ]
  },
  {
   "cell_type": "code",
   "execution_count": 63,
   "metadata": {},
   "outputs": [
    {
     "name": "stdout",
     "output_type": "stream",
     "text": [
      "Susan\n"
     ]
    }
   ],
   "source": [
    "# Question \n",
    "# Hot potato \n",
    "# children line up in circle and pass item from neighbour to neighbour \n",
    "# at certain point game is stoped and the guy with item(potato) is removed# play continue till only one child is left \n",
    "\n",
    "# description \n",
    "# we ll implement a general simulation of hot potato \n",
    "# our program will input a list of names and a num - used for counting \n",
    "# it will return the name of the last person remaing after repetative count by num \n",
    "# Assume the child holding the potato is in the front of the queue\n",
    "# upon passing th epotato , the simulation will simple dequeue and then immediately enqueue that child putting her at the end of the line \n",
    "# she will then wait till all others are at the front befr its her turn \n",
    "# After enqueue/dequeue operations ,the child at the front will be removed permanantely and another cycle wwill begin \n",
    "# this cycle will continue unless we have only one name \n",
    "alist = ['Bill','David','Susan','Jane','Kent','Brad']\n",
    "# alist = ['Brad','Kent','Jane','Susan','David','Bill']\n",
    "from pythonds.basic import Queue\n",
    "def hot_potato(alist,num):\n",
    "    simqueue = Queue()\n",
    "    for name in alist:\n",
    "        simqueue.enqueue(name)\n",
    "    # simqueue = ['Brad','Kent','Jane','Susan','David','Bill']\n",
    "    while simqueue.size() > 1:\n",
    "        for i in range(num):\n",
    "            # print(f\"for-loop: {i}\")\n",
    "            #for i = 1\n",
    "            # here the list is modified also\n",
    "            # bill is deleted and now the updated lsit simqueue is ['Brad','Kent','Jane','Susan','David']\n",
    "            # bill is inseter at position one with enqueue = simqueue = ['Bill','Brad','Kent','Jane','Susan','David']\n",
    "            # print(f\"i:{i} dequeue-1: {simqueue.dequeue()},length : {simqueue.size()}\")\n",
    "            simqueue.enqueue(simqueue.dequeue())\n",
    "            # print(f\"i:{i} enqueue/dequeue {simqueue.dequeue()},length : {simqueue.size()}\")\n",
    "        # the queue is modified\n",
    "        # final_deque = simqueue.dequeue()\n",
    "        # print(f\"final_deque : {final_deque}\")\n",
    "        # print(f\"while-loop:dequeue-2: {simqueue.dequeue()}\")\n",
    "        # print(f\"while-loop:dequeue-2: {simqueue.dequeue()}\")\n",
    "        # print(f\"while-loop: {i}\")\n",
    "        simqueue.dequeue()\n",
    "    return simqueue.dequeue()\n",
    "\n",
    "res = hot_potato(alist,7)\n",
    "print(res)"
   ]
  }
 ],
 "metadata": {
  "kernelspec": {
   "display_name": "Python 3",
   "language": "python",
   "name": "python3"
  },
  "language_info": {
   "codemirror_mode": {
    "name": "ipython",
    "version": 3
   },
   "file_extension": ".py",
   "mimetype": "text/x-python",
   "name": "python",
   "nbconvert_exporter": "python",
   "pygments_lexer": "ipython3",
   "version": "3.10.0"
  },
  "orig_nbformat": 4
 },
 "nbformat": 4,
 "nbformat_minor": 2
}
