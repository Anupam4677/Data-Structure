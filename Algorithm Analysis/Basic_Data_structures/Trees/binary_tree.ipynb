{
 "cells": [
  {
   "cell_type": "code",
   "execution_count": 4,
   "metadata": {},
   "outputs": [],
   "source": [
    "def BinaryTreeNode():\n",
    "    def __init__(self,rootObj):\n",
    "        self.key = rootObj\n",
    "        self.leftChild = None\n",
    "        self.rightChild = None\n",
    "\n",
    "def insertLeft(self,newNode):\n",
    "    if self.leftChild == None:\n",
    "        self.leftChild = BinaryTreeNode(newNode)\n",
    "    else:\n",
    "        t = BinaryTreeNode(newNode)\n",
    "        t.left = self.leftChild\n",
    "        self.leftChild = t\n",
    "def insertRightt(self,newNode):\n",
    "    if self.rightChild == None:\n",
    "        self.rightChild = BinaryTreeNode(newNode)\n",
    "    else:\n",
    "        t = BinaryTreeNode(newNode)\n",
    "        t.right = self.leftChild\n",
    "        self.leftChild = t\n",
    "\n",
    "def getRightChild(self):\n",
    "    return self.rightChild\n",
    "def getLeftChild(self):\n",
    "    return self.leftChild\n",
    "def setRootVal(self,obj):\n",
    "    self.key = obj\n",
    "def getRootVal(self):\n",
    "    return self.key\n"
   ]
  },
  {
   "cell_type": "code",
   "execution_count": 18,
   "metadata": {},
   "outputs": [
    {
     "name": "stdout",
     "output_type": "stream",
     "text": [
      "None\n",
      "<pythonds.trees.binaryTree.BinaryTree object at 0x000001BE28B4B220>\n",
      "b\n",
      "...................\n",
      "<pythonds.trees.binaryTree.BinaryTree object at 0x000001BE28B4B490>\n",
      "c\n",
      "<pythonds.trees.binaryTree.BinaryTree object at 0x000001BE28B4B0A0>\n",
      "d\n"
     ]
    }
   ],
   "source": [
    "from pythonds.trees import BinaryTree\n",
    "r =BinaryTree('a')\n",
    "r.getRootVal()\n",
    "print(r.getLeftChild())\n",
    "r.insertLeft('b')\n",
    "print(r.getLeftChild())\n",
    "print(r.getLeftChild().getRootVal())\n",
    "print('...................')\n",
    "r.insertRight('c')\n",
    "print(r.getRightChild())\n",
    "print(r.getRightChild().getRootVal())\n",
    "r.insertRight('d')\n",
    "print(r.getRightChild())\n",
    "print(r.getRightChild().getRootVal())"
   ]
  }
 ],
 "metadata": {
  "kernelspec": {
   "display_name": "Python 3",
   "language": "python",
   "name": "python3"
  },
  "language_info": {
   "codemirror_mode": {
    "name": "ipython",
    "version": 3
   },
   "file_extension": ".py",
   "mimetype": "text/x-python",
   "name": "python",
   "nbconvert_exporter": "python",
   "pygments_lexer": "ipython3",
   "version": "3.10.0"
  },
  "orig_nbformat": 4
 },
 "nbformat": 4,
 "nbformat_minor": 2
}
