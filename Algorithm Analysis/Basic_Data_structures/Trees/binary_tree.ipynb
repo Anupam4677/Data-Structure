{
 "cells": [
  {
   "cell_type": "code",
   "execution_count": 54,
   "metadata": {},
   "outputs": [],
   "source": [
    "def BinaryTreeNode():\n",
    "    def __init__(self,rootObj):\n",
    "        self.key = rootObj\n",
    "        self.leftChild = None\n",
    "        self.rightChild = None\n",
    "\n",
    "    def insertLeft(self,newNode):\n",
    "        if self.leftChild == None:\n",
    "            self.leftChild = BinaryTreeNode(newNode)\n",
    "        else:\n",
    "            t = BinaryTreeNode(newNode)\n",
    "            t.left = self.leftChild\n",
    "            self.leftChild = t\n",
    "    def insertRightt(self,newNode):\n",
    "        if self.rightChild == None:\n",
    "            self.rightChild = BinaryTreeNode(newNode)\n",
    "        else:\n",
    "            t = BinaryTreeNode(newNode)\n",
    "            t.right = self.leftChild\n",
    "            self.leftChild = t\n",
    "\n",
    "    \n",
    "        \n",
    "    # def print_tree(self):\n",
    "    #     spaces = ' ' * self.get_level() * 3\n",
    "    #     print(spaces +self.key)\n",
    "    #     if self.left:\n",
    "    #         for left in self.left:\n",
    "    #             left.print_tree()\n",
    "\n",
    "def getRightChild(self):\n",
    "    return self.rightChild\n",
    "def getLeftChild(self):\n",
    "    return self.leftChild\n",
    "def setRootVal(self,obj):\n",
    "    self.key = obj\n",
    "def getRootVal(self):\n",
    "    return self.key\n"
   ]
  },
  {
   "cell_type": "code",
   "execution_count": 2,
   "metadata": {},
   "outputs": [
    {
     "name": "stdout",
     "output_type": "stream",
     "text": [
      "a\n",
      "<pythonds.trees.binaryTree.BinaryTree object at 0x000001E3B863FE80>\n",
      "a\n",
      "b\n",
      "b-left\n",
      "b-right\n",
      "...................\n"
     ]
    }
   ],
   "source": [
    "from pythonds.trees import BinaryTree\n",
    "r =BinaryTree('a')\n",
    "print(r.getRootVal())\n",
    "# print(r.getLeftChild())\n",
    "r.insertLeft('b')\n",
    "print(r.getLeftChild())\n",
    "print(r.getRootVal())\n",
    "print(r.getLeftChild().getRootVal())\n",
    "r.getLeftChild().insertLeft('b-left')\n",
    "r.getLeftChild().insertRight('b-right')\n",
    "# level -2\n",
    "print(r.getLeftChild().getLeftChild().getRootVal())\n",
    "print(r.getLeftChild().getRightChild().getRootVal())\n",
    "print('...................')\n",
    "\n",
    "# r.insertRight('c')\n",
    "# print(r.getRightChild())\n",
    "# print(r.getRightChild().getRootVal())\n",
    "# r.insertRight('d')\n",
    "# print(r.getRightChild())\n",
    "# print(r.getRightChild().getRootVal())\n"
   ]
  },
  {
   "cell_type": "code",
   "execution_count": 52,
   "metadata": {},
   "outputs": [],
   "source": [
    "from pythonds.basic import Stack\n",
    "from pythonds.trees import BinaryTree\n",
    "\n",
    "def buildParseTree(fpexp):\n",
    "    fplist = fpexp.split()\n",
    "    pStack = Stack()\n",
    "    eTree = BinaryTree('')\n",
    "    pStack.push(eTree)\n",
    "    currentTree = eTree\n",
    "    for i in fplist:\n",
    "        if i == '(':\n",
    "            currentTree.insertLeft('')\n",
    "            pStack.push(currentTree)\n",
    "            currentTree = currentTree.getLeftChild()\n",
    "        elif i not in '+-*/)':\n",
    "            currentTree.setRootVal(eval(i))\n",
    "            parent = pStack.pop()\n",
    "            currentTree = parent\n",
    "        elif i in '+-*/':\n",
    "            currentTree.setRootVal(i)\n",
    "            currentTree.insertRight('')\n",
    "            pStack.push(currentTree)\n",
    "            currentTree = currentTree.getRightChild()\n",
    "        elif i ==')':\n",
    "            currentTree = pStack.pop()\n",
    "        else:\n",
    "            raise ValueError('Unknown Operators:'+i)\n",
    "    return eTree\n",
    "\n"
   ]
  },
  {
   "cell_type": "code",
   "execution_count": null,
   "metadata": {},
   "outputs": [],
   "source": []
  }
 ],
 "metadata": {
  "kernelspec": {
   "display_name": "Python 3",
   "language": "python",
   "name": "python3"
  },
  "language_info": {
   "codemirror_mode": {
    "name": "ipython",
    "version": 3
   },
   "file_extension": ".py",
   "mimetype": "text/x-python",
   "name": "python",
   "nbconvert_exporter": "python",
   "pygments_lexer": "ipython3",
   "version": "3.10.0"
  },
  "orig_nbformat": 4
 },
 "nbformat": 4,
 "nbformat_minor": 2
}
