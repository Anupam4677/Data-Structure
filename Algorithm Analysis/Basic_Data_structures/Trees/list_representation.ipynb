{
 "cells": [
  {
   "cell_type": "code",
   "execution_count": 8,
   "metadata": {},
   "outputs": [
    {
     "name": "stdout",
     "output_type": "stream",
     "text": [
      "a\n",
      "['b', ['d', [], []], ['e', [], []]]\n",
      "['c', ['f', [], []], []]\n"
     ]
    }
   ],
   "source": [
    "myTree = ['a',['b',['d',[],[]],['e',[],[]] ],['c',['f',[],[]],[]]]\n",
    "# myTree = ['a',['b',['d',[],[]],['e',[],[]]],['c',['f',[],[]],[]] ]\n",
    "print(myTree[0])\n",
    "print(myTree[1])\n",
    "print(myTree[2])\n"
   ]
  },
  {
   "cell_type": "code",
   "execution_count": 26,
   "metadata": {},
   "outputs": [
    {
     "name": "stdout",
     "output_type": "stream",
     "text": [
      "root-input:[3, [], []]\n",
      "newBranch-input:5\n",
      "2\n",
      "else-before-root:[3, []]\n",
      "else-after-root:[3, [5, [], []], []]\n",
      "................................\n",
      "root-input:[3, [5, [], []], []]\n",
      "newBranch-input:6\n",
      "t:[5, [], []]\n",
      "len-t: 3\n",
      "if-before-root:[3, []]\n",
      "if-after-root:[3, [6, [5, [], []], []], []]\n",
      "[3, [6, [5, [], []], []], []]\n",
      "................................\n",
      "root-input:[3, [6, [5, [], []], []], []]\n",
      "newBranch-input:7\n",
      "t:[6, [5, [], []], []]\n",
      "len-t: 3\n",
      "if-before-root:[3, []]\n",
      "if-after-root:[3, [7, [6, [5, [], []], []], []], []]\n",
      "[3, [7, [6, [5, [], []], []], []], []]\n"
     ]
    }
   ],
   "source": [
    "# Lists Function \n",
    "def BinaryTree(r):\n",
    "    return [r,[],[]]\n",
    "\n",
    "def insertLeft(root,newBranch):\n",
    "    print(f\"root-input:{root}\")\n",
    "    print(f\"newBranch-input:{newBranch}\")\n",
    "    # pop- removes and returns the item at position 1\n",
    "    t = root.pop(1)\n",
    "   \n",
    "    if len(t) > 1:\n",
    "        print(f\"t:{t}\")\n",
    "        print(f\"len-t: {len(t)}\")\n",
    "        print(f\"if-before-root:{root}\")\n",
    "        root.insert(1,[newBranch,t,[]])\n",
    "        print(f\"if-after-root:{root}\")\n",
    "    else:\n",
    "        print(2)\n",
    "        print(f\"else-before-root:{root}\")\n",
    "        root.insert(1,[newBranch,[],[]])\n",
    "        print(f\"else-after-root:{root}\")\n",
    "\n",
    "    return root\n",
    "\n",
    "def insertRight(root,newBranch):\n",
    "    t = root.pop(2)\n",
    "    if len(t) > 1:\n",
    "        root.insert(2,[newBranch,[],t                                                   ``])\n",
    "    else:\n",
    "        root.insert(2,[newBranch,[],[]])\n",
    "\n",
    "    return root\n",
    "r = BinaryTree(3)  # r = [3, [], []]\n",
    "# insertLeft(r,4) # [3, [4, [], []], []]\n",
    "r1= insertLeft(r,5) # [3, [4, [], []], []]\n",
    "# print(r1)\n",
    "print('................................')\n",
    "r2= insertLeft(r,6) # [3, [4, [], []], []]\n",
    "print(r2)\n",
    "print('................................')\n",
    "r3= insertLeft(r,7) # [3, [4, [], []], []]\n",
    "print(r3)\n"
   ]
  }
 ],
 "metadata": {
  "kernelspec": {
   "display_name": "Python 3",
   "language": "python",
   "name": "python3"
  },
  "language_info": {
   "codemirror_mode": {
    "name": "ipython",
    "version": 3
   },
   "file_extension": ".py",
   "mimetype": "text/x-python",
   "name": "python",
   "nbconvert_exporter": "python",
   "pygments_lexer": "ipython3",
   "version": "3.10.0"
  },
  "orig_nbformat": 4
 },
 "nbformat": 4,
 "nbformat_minor": 2
}
