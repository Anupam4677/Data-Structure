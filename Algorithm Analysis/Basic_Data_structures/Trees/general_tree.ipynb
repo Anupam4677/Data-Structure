{
 "cells": [
  {
   "cell_type": "code",
   "execution_count": 19,
   "metadata": {},
   "outputs": [
    {
     "name": "stdout",
     "output_type": "stream",
     "text": [
      "Electronics\n",
      "   Laptop\n",
      "      Surface\n",
      "      Thinkpad\n",
      "      IBM\n",
      "   CellPhone\n",
      "      I-Phone\n",
      "      Google-Pixel\n",
      "      Vivo\n",
      "   TV\n",
      "      Samsung\n",
      "      LG\n"
     ]
    }
   ],
   "source": [
    "class TreeNode:\n",
    "    def __init__(self,data):\n",
    "        self.data = data \n",
    "        self.children = []\n",
    "        self.parent = None\n",
    "    def add_child(self,child):\n",
    "        child.parent = self\n",
    "        self.children.append(child)\n",
    "    \n",
    "    def get_level(self):\n",
    "        level = 0\n",
    "        p = self.parent\n",
    "        while p:\n",
    "            level += 1\n",
    "            p = p.parent\n",
    "        return level\n",
    "    \n",
    "    def print_tree(self):\n",
    "        spaces = ' ' * self.get_level() * 3\n",
    "        print(spaces +self.data)\n",
    "        if self.children:\n",
    "            for child in self.children:\n",
    "                child.print_tree()\n",
    "\n",
    "\n",
    "def build_product_tree():\n",
    "    root = TreeNode('Electronics')\n",
    "\n",
    "    laptop = TreeNode('Laptop')\n",
    "    laptop.add_child(TreeNode(\"Surface\"))\n",
    "    laptop.add_child(TreeNode(\"Thinkpad\"))\n",
    "    laptop.add_child(TreeNode(\"IBM\"))\n",
    "\n",
    "    cellphone = TreeNode('CellPhone')\n",
    "    cellphone.add_child(TreeNode(\"I-Phone\"))\n",
    "    cellphone.add_child(TreeNode(\"Google-Pixel\"))\n",
    "    cellphone.add_child(TreeNode(\"Vivo\"))\n",
    "\n",
    "    tv = TreeNode('TV')\n",
    "    tv.add_child(TreeNode(\"Samsung\"))\n",
    "    tv.add_child(TreeNode(\"LG\"))\n",
    "\n",
    "    root.add_child(laptop)\n",
    "    root.add_child(cellphone)\n",
    "    root.add_child(tv)\n",
    "   \n",
    "\n",
    "    return root\n",
    "    \n",
    "\n",
    "res = build_product_tree()\n",
    "res.print_tree()\n",
    "# print(res)\n",
    "# print(res.children)\n",
    "# print(res.parent)\n"
   ]
  },
  {
   "cell_type": "code",
   "execution_count": null,
   "metadata": {},
   "outputs": [],
   "source": []
  }
 ],
 "metadata": {
  "kernelspec": {
   "display_name": "Python 3",
   "language": "python",
   "name": "python3"
  },
  "language_info": {
   "name": "python",
   "version": "3.10.0"
  },
  "orig_nbformat": 4
 },
 "nbformat": 4,
 "nbformat_minor": 2
}
