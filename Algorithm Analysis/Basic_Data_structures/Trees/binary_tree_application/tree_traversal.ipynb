{
 "cells": [
  {
   "cell_type": "code",
   "execution_count": 44,
   "metadata": {},
   "outputs": [
    {
     "name": "stdout",
     "output_type": "stream",
     "text": [
      "Book\n",
      "Chapter-1\n",
      "Chapter-2\n"
     ]
    }
   ],
   "source": [
    "\n",
    "def BinaryTreeNode():\n",
    "    def __init__(self,rootObj):\n",
    "        self.key = rootObj\n",
    "        self.leftChild = None\n",
    "        self.rightChild = None\n",
    "\n",
    "    def insertLeft(self,newNode):\n",
    "        if self.leftChild == None:\n",
    "            self.leftChild = BinaryTreeNode(newNode)\n",
    "        else:\n",
    "            t = BinaryTreeNode(newNode)\n",
    "            t.left = self.leftChild\n",
    "            self.leftChild = t\n",
    "    def insertRightt(self,newNode):\n",
    "        if self.rightChild == None:\n",
    "            self.rightChild = BinaryTreeNode(newNode)\n",
    "        else:\n",
    "            t = BinaryTreeNode(newNode)\n",
    "            t.right = self.leftChild\n",
    "            self.leftChild = t\n",
    "            \n",
    "    def getRootVal(self):\n",
    "        return self.key\n",
    "    def getRightChild(self):\n",
    "        return self.rightChild\n",
    "    def getLeftChild(self):\n",
    "        return self.leftChild   \n",
    "    def preorder(self):\n",
    "        print(self.key)\n",
    "        if self.leftChild:\n",
    "            self.leftChild.preorder()  \n",
    "        if self.rightChild:\n",
    "            self.righChild.preorder()   \n",
    "    def preorder1(self,tree):\n",
    "        if tree:\n",
    "            print(tree.getRootVal())\n",
    "            preorder(tree.getLeftChild())\n",
    "            preorder(tree.getRightChild())\n",
    " # CREATE A BINARY TREE\n",
    "from pythonds.trees import BinaryTree\n",
    "book_tree =BinaryTree('Book')\n",
    "# book_tree = BinaryTreeNode()\n",
    "\n",
    "def create_binary_tree():\n",
    "\n",
    "    book_tree.insertLeft('Chapter-1')\n",
    "    book_tree.getLeftChild().insertLeft('Section-1.1')\n",
    "    book_tree.getLeftChild().insertRight('Section-1.2')\n",
    "    book_tree.getLeftChild().getRightChild().insertLeft('section-1.2.1')\n",
    "    book_tree.getLeftChild().getRightChild().insertRight('section-1.2.2')\n",
    "\n",
    "    # Right- Tree\n",
    "    book_tree.insertRight('Chapter-2')\n",
    "    book_tree.getRightChild().insertLeft('Section-2.1')\n",
    "    book_tree.getRightChild().insertRight('Section-2.2')\n",
    "    book_tree.getRightChild().getRightChild().insertLeft('section-2.2.1')\n",
    "    book_tree.getRightChild().getRightChild().insertRight('section-2.2.2')\n",
    "\n",
    "    return book_tree\n",
    "book_tree_binary = create_binary_tree()\n",
    "print(book_tree_binary.getRootVal())\n",
    "print(book_tree_binary.getLeftChild().getRootVal())\n",
    "print(book_tree_binary.getRightChild().getRootVal())\n",
    "\n"
   ]
  },
  {
   "cell_type": "code",
   "execution_count": 45,
   "metadata": {},
   "outputs": [
    {
     "name": "stdout",
     "output_type": "stream",
     "text": [
      "Book\n",
      "Chapter-1\n",
      "Section-1.1\n",
      "Section-1.2\n",
      "section-1.2.1\n",
      "section-1.2.2\n",
      "Chapter-2\n",
      "Section-2.1\n",
      "Section-2.2\n",
      "section-2.2.1\n",
      "section-2.2.2\n"
     ]
    }
   ],
   "source": [
    "# in preorder traversal , we visit the root node first \n",
    "# then recursively do a preorder traversal of the left subtree\n",
    "# followed by recursive preorder traversal of right subtree\n",
    "def preorder(tree):\n",
    "    if tree:\n",
    "        print(tree.getRootVal())\n",
    "        preorder(tree.getLeftChild())\n",
    "        preorder(tree.getRightChild())\n",
    "preorder(book_tree_binary)"
   ]
  },
  {
   "cell_type": "code",
   "execution_count": 49,
   "metadata": {},
   "outputs": [
    {
     "name": "stdout",
     "output_type": "stream",
     "text": [
      "15.0\n"
     ]
    },
    {
     "data": {
      "text/plain": [
       "15.0"
      ]
     },
     "execution_count": 49,
     "metadata": {},
     "output_type": "execute_result"
    }
   ],
   "source": [
    "import operator\n",
    "import operator\n",
    "from pythonds.basic import Stack\n",
    "from pythonds.trees import BinaryTree\n",
    "\n",
    "def postorder(tree):\n",
    "    if tree != None:\n",
    "        postorder(tree.getLeftChild())\n",
    "        postorder(tree.getRightChild())\n",
    "        print(tree.getRootVal())\n",
    "\n",
    "\n",
    "def postorderreval(tree):\n",
    "    opers = {'+':operator.add,'-':operator.sub,'*':operator.mul,'/':operator.truediv}\n",
    "    res1=None\n",
    "    res2=None\n",
    "    if tree:\n",
    "        res1 = postorderreval(tree.getLeftChild()) \n",
    "        res2 = postorderreval(tree.getRightChild()) \n",
    "        if res1 and res2:\n",
    "            return opers[tree.getRootVal()](res1,res2)\n",
    "        else:\n",
    "            return tree.getRootVal()\n",
    "        \n",
    "\n",
    "def buildParseTree(fpexp):\n",
    "    fplist = fpexp.split()\n",
    "    pStack = Stack()\n",
    "    eTree = BinaryTree('')\n",
    "    pStack.push(eTree)\n",
    "    currentTree = eTree\n",
    "    for i in fplist:\n",
    "        if i == '(':\n",
    "            currentTree.insertLeft('')\n",
    "            pStack.push(currentTree)\n",
    "            currentTree = currentTree.getLeftChild()\n",
    "        elif i not in '+-*/)':\n",
    "            currentTree.setRootVal(eval(i))\n",
    "            parent = pStack.pop()\n",
    "            currentTree = parent\n",
    "        elif i in '+-*/':\n",
    "            currentTree.setRootVal(i)\n",
    "            currentTree.insertRight('')\n",
    "            pStack.push(currentTree)\n",
    "            currentTree = currentTree.getRightChild()\n",
    "        elif i ==')':\n",
    "            currentTree = pStack.pop()\n",
    "        else:\n",
    "            raise ValueError('Unknown Operators:'+i)\n",
    "    return eTree\n",
    "\n",
    "\n",
    "    \n",
    "parse_tree_equation = buildParseTree('((7+3)*(5-2))/2')\n",
    "\n",
    "postorder(parse_tree_equation)\n",
    "postorderreval(parse_tree_equation)"
   ]
  },
  {
   "cell_type": "code",
   "execution_count": 53,
   "metadata": {},
   "outputs": [
    {
     "name": "stdout",
     "output_type": "stream",
     "text": [
      "Section-1.1\n",
      "Chapter-1\n",
      "section-1.2.1\n",
      "Section-1.2\n",
      "section-1.2.2\n",
      "Book\n",
      "Section-2.1\n",
      "Chapter-2\n",
      "section-2.2.1\n",
      "Section-2.2\n",
      "section-2.2.2\n",
      "(15.0)\n"
     ]
    }
   ],
   "source": [
    "# in order traversal algo\n",
    "def inorder(tree):\n",
    "    if tree !=  None:\n",
    "        inorder(tree.getLeftChild())\n",
    "        print(tree.getRootVal())\n",
    "        inorder(tree.getRightChild())\n",
    "\n",
    "inorder(book_tree_binary)\n",
    "\n",
    "def printexp(tree):\n",
    "    sVal = \"\"\n",
    "    if tree:\n",
    "        sVal = '('+ printexp(tree.getLeftChild())\n",
    "        sVal = sVal +  str(tree.getRootVal())\n",
    "        sVal = sVal + printexp(tree.getRightChild())+')'\n",
    "    return sVal\n",
    "print(printexp(parse_tree_equation))"
   ]
  },
  {
   "cell_type": "code",
   "execution_count": null,
   "metadata": {},
   "outputs": [],
   "source": []
  }
 ],
 "metadata": {
  "kernelspec": {
   "display_name": "Python 3",
   "language": "python",
   "name": "python3"
  },
  "language_info": {
   "codemirror_mode": {
    "name": "ipython",
    "version": 3
   },
   "file_extension": ".py",
   "mimetype": "text/x-python",
   "name": "python",
   "nbconvert_exporter": "python",
   "pygments_lexer": "ipython3",
   "version": "3.10.0"
  },
  "orig_nbformat": 4
 },
 "nbformat": 4,
 "nbformat_minor": 2
}
