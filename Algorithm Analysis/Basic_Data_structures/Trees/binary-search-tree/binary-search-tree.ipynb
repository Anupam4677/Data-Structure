{
 "cells": [
  {
   "cell_type": "code",
   "execution_count": 35,
   "metadata": {},
   "outputs": [],
   "source": [
    "# class node:\n",
    "#     def __init__(self,value = None):\n",
    "#         self.value = value \n",
    "#         self.left_Child:None\n",
    "#         self.right_Child:None\n",
    "\n",
    "class node:\n",
    "\tdef __init__(self,value=None):\n",
    "\t\tself.value=value\n",
    "\t\tself.left_child=None\n",
    "\t\tself.right_child=None\n",
    "\t\t# self.parent=None # pointer to parent node in tree\n",
    "\n",
    "class binary_search_tree:\n",
    "    def __init__(self):\n",
    "        self.root = None\n",
    "\n",
    "    def insert(self,value):\n",
    "        if self.root == None:\n",
    "            self.root = node(value)\n",
    "        else:\n",
    "            self._insert(value,self.root)\n",
    "\n",
    "    def _insert(self,value,cur_node):\n",
    "        if value < cur_node.value:\n",
    "            if cur_node.left_child == None:\n",
    "                cur_node.left_child = node(value)\n",
    "            else:\n",
    "                self._insert(value,cur_node.left_child)\n",
    "\n",
    "        elif value > cur_node.value:\n",
    "            if cur_node.right_child == None:\n",
    "                cur_node.right_child = node(value)\n",
    "            else:\n",
    "                self._insert(value,cur_node.right_child)\n",
    "\n",
    "        else:\n",
    "            print(\"value already in tree\")\n",
    "\n",
    "    def print_tree(self):\n",
    "        if self.root != None:\n",
    "            self._print_tree(self.root)\n",
    "\n",
    "    def _print_tree(self,cur_node):\n",
    "        if cur_node != None:\n",
    "            self._print_tree(cur_node.left_child)\n",
    "            print(str(cur_node.value))\n",
    "            self._print_tree(cur_node.right_child)\n",
    "\n",
    "    def height(self):\n",
    "        if self.root != None:\n",
    "            return self._height(self.root,0)\n",
    "        else:\n",
    "            return 0\n",
    "    \n",
    "    def _height(self,cur_node,cur_height):\n",
    "        if cur_node == None:\n",
    "            return cur_height\n",
    "        # we ll get the height from left subtree\n",
    "        left_height = self._height(cur_node.left_child,cur_height+1)\n",
    "        right_height = self._height(cur_node.right_child,cur_height+1)\n",
    "        return max(left_height,right_height)\n",
    "    \n",
    "    def search(self,value):\n",
    "        if self.root != 1:\n",
    "            return self._search(value,self.root)\n",
    "        else:\n",
    "            return False\n",
    "    \n",
    "    def _search(self,value,cur_nod):\n",
    "        if value == cur_nod.value:\n",
    "            return True\n",
    "        elif value < cur_nod.value and cur_nod.left_child !=None:\n",
    "            return self._search(value,cur_nod.left_child)\n",
    "        elif value > cur_nod.value and cur_nod.right_child !=None:\n",
    "            return self._search(value,cur_nod.right_child)\n",
    "\n",
    "        return False\n",
    "\n",
    "\n",
    "\n",
    "\n",
    "\n",
    "\n"
   ]
  },
  {
   "cell_type": "code",
   "execution_count": 29,
   "metadata": {},
   "outputs": [
    {
     "name": "stdout",
     "output_type": "stream",
     "text": [
      "value already in tree\n",
      "value already in tree\n",
      "value already in tree\n",
      "value already in tree\n",
      "value already in tree\n",
      "value already in tree\n",
      "value already in tree\n",
      "value already in tree\n",
      "value already in tree\n",
      "value already in tree\n",
      "value already in tree\n",
      "value already in tree\n",
      "14\n",
      "33\n",
      "50\n",
      "52\n",
      "58\n",
      "64\n",
      "81\n",
      "95\n"
     ]
    }
   ],
   "source": [
    "def fill_tree(tree,num_elems = 10,max_int = 100):\n",
    "    from random import randint\n",
    "    for _ in range(num_elems):\n",
    "        cur_elem = (randint(0,max_int))\n",
    "        tree.insert(cur_elem)\n",
    "    return tree\n",
    "tree = binary_search_tree()\n",
    "tree = fill_tree(tree)\n",
    "# IF THE ARE IN SORTED ORDER WE KNOW THEY HAVE BEEN INSERTED PROPERLY\n",
    "tree.print_tree()"
   ]
  },
  {
   "cell_type": "code",
   "execution_count": 33,
   "metadata": {},
   "outputs": [
    {
     "name": "stdout",
     "output_type": "stream",
     "text": [
      "Tree height is: 4\n"
     ]
    }
   ],
   "source": [
    "print(f\"Tree height is: {str(tree.height())}\")\n"
   ]
  },
  {
   "cell_type": "code",
   "execution_count": 36,
   "metadata": {},
   "outputs": [
    {
     "name": "stdout",
     "output_type": "stream",
     "text": [
      "Tree height is: 4\n",
      "True\n",
      "False\n"
     ]
    }
   ],
   "source": [
    "tree_search = binary_search_tree()\n",
    "tree_search.insert(5)\n",
    "tree_search.insert(1)\n",
    "tree_search.insert(3)\n",
    "tree_search.insert(2)\n",
    "tree_search.insert(7)\n",
    "tree_search.insert(10)\n",
    "tree_search.insert(0)\n",
    "tree_search.insert(20)\n",
    "print(f\"Tree height is: {str(tree_search.height())}\")\n",
    "print(tree_search.search(10))\n",
    "print(tree_search.search(30))"
   ]
  }
 ],
 "metadata": {
  "kernelspec": {
   "display_name": "Python 3",
   "language": "python",
   "name": "python3"
  },
  "language_info": {
   "codemirror_mode": {
    "name": "ipython",
    "version": 3
   },
   "file_extension": ".py",
   "mimetype": "text/x-python",
   "name": "python",
   "nbconvert_exporter": "python",
   "pygments_lexer": "ipython3",
   "version": "3.10.0"
  },
  "orig_nbformat": 4
 },
 "nbformat": 4,
 "nbformat_minor": 2
}
