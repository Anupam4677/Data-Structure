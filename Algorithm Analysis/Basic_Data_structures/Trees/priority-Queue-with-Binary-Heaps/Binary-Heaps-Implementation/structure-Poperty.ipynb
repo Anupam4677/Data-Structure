{
 "cells": [
  {
   "cell_type": "code",
   "execution_count": 25,
   "metadata": {},
   "outputs": [],
   "source": [
    "class MinHeap:\n",
    "    #capacity is the max no of elements you want to store \n",
    "    def __init__(self,capacity):\n",
    "        self.storage = [0] * capacity\n",
    "        self.capacity = capacity\n",
    "        # size is the no of elements currently in our heap\n",
    "        self.size = 0\n",
    "    \n",
    "    def getParentIndex(self,index):\n",
    "        # print('getParentIndex:',index )\n",
    "        return int((index-1)/2)\n",
    "    \n",
    "    def getLeftChildIndex(self,index):\n",
    "        return (2 * index) + 1\n",
    "    \n",
    "    def getRightChildIndex(self,index):\n",
    "        return (2 * index) + 2\n",
    "    \n",
    "    def hasParent(self,index):\n",
    "        return self.getParentIndex(index)\n",
    "    \n",
    "    def hasLeftChild(self,index):\n",
    "        return self.getLeftChildIndex(index) < self.size\n",
    "\n",
    "    def hasRightChild(self,index):\n",
    "        return self.getRightChildIndex(index) < self.size\n",
    "    \n",
    "    def parent(self,index):\n",
    "        # print(f\"parent:{self.storage[self.getParentIndex(index)]}\")\n",
    "        return self.storage[self.getParentIndex(index)]\n",
    "    \n",
    "    def getLeftChild(self,index):\n",
    "        return self.storage[self.getLeftChildIndex(index)]\n",
    "    \n",
    "    def getRightChild(self,index):\n",
    "        return self.storage[self.getRightChildIndex(index)]\n",
    "    \n",
    "    \n",
    "    def isFull(self):\n",
    "        return self.size == self.capacity\n",
    "    \n",
    "    def swap(self,index1,index2):\n",
    "        temp = self.storage[index1]\n",
    "        self.storage[index1] = self.storage[index2]\n",
    "        self.storage[index2] = temp\n",
    "\n",
    "    def insert(self,data):\n",
    "        if (self.isFull()):\n",
    "            raise(\"Heap is Full\")\n",
    "        # insert the data into the last available position \n",
    "        self.storage[self.size] = data\n",
    "        self.size += 1\n",
    "        # self.heapifyUp()\n",
    "        self.heapifyUp(self.size-1)\n",
    "\n",
    "    def heapifyUp(self,index):\n",
    "    \n",
    "        if(self.hasParent(index) and self.parent(index) > self.storage[index]):\n",
    "            self.swap(self.getParentIndex(index),index)\n",
    "            self.heapifyUp(self.getParentIndex(index))\n",
    "    \n",
    "    def removeMin(self):\n",
    "     \n",
    "        # removes and returns the min element\"\n",
    "        if (self.size == 0):\n",
    "            raise('Empty Heap')\n",
    "        \n",
    "        data = self.storage[0]\n",
    "        self.storage[0] = self.storage[self.size-1]\n",
    "        self.size -= 1\n",
    "        self.heapifyDown(0)\n",
    "        return data\n",
    "    \n",
    "    def heapifyDown(self,index):\n",
    "        smallest = index\n",
    "        # the reson we also see left child bcoz a heap is a complete tree\n",
    "        # if it dosent have a left child it has no possibilty to have a right child \n",
    "        if self.hasLeftChild(index) and self.storage[smallest]>self.getLeftChild(index):\n",
    "            smallest = self.getLeftChildIndex(index)\n",
    "        if self.hasRightChild(index) and self.storage[smallest]>self.getRightChild(index):\n",
    "            smallest = self.getRightChildIndex(index)\n",
    "        if smallest!=index:\n",
    "            self.swap(index,smallest)\n",
    "            self.heapifyDown(smallest)\n",
    "        \n",
    "        \n",
    "\n"
   ]
  },
  {
   "cell_type": "code",
   "execution_count": 26,
   "metadata": {},
   "outputs": [
    {
     "name": "stdout",
     "output_type": "stream",
     "text": [
      "Storage: [0, 5, 10, 20, 8, 15, 30]\n",
      "capacity: 7\n",
      "size: 7\n"
     ]
    }
   ],
   "source": [
    "MinHeapTree = MinHeap(7)\n",
    "MinHeapTree.insert(0)\n",
    "MinHeapTree.insert(5)\n",
    "MinHeapTree.insert(10)\n",
    "MinHeapTree.insert(20)\n",
    "MinHeapTree.insert(8)\n",
    "MinHeapTree.insert(15)\n",
    "MinHeapTree.insert(30)\n",
    "\n",
    "print(f\"Storage: {MinHeapTree.storage}\")\n",
    "print(f\"capacity: {MinHeapTree.capacity}\")\n",
    "print(f\"size: {MinHeapTree.size}\")"
   ]
  },
  {
   "cell_type": "code",
   "execution_count": 27,
   "metadata": {},
   "outputs": [
    {
     "name": "stdout",
     "output_type": "stream",
     "text": [
      "Minimum: 0\n",
      "Storage: [5, 8, 10, 20, 30, 15, 30]\n",
      "capacity: 7\n",
      "size: 6\n"
     ]
    }
   ],
   "source": [
    "min_res = MinHeapTree.removeMin()\n",
    "print(f\"Minimum: {min_res}\")\n",
    "print(f\"Storage: {MinHeapTree.storage}\")\n",
    "print(f\"capacity: {MinHeapTree.capacity}\")\n",
    "print(f\"size: {MinHeapTree.size}\")"
   ]
  },
  {
   "cell_type": "code",
   "execution_count": 28,
   "metadata": {},
   "outputs": [
    {
     "name": "stdout",
     "output_type": "stream",
     "text": [
      "Minimum: 5\n",
      "Storage: [8, 15, 10, 20, 30, 15, 30]\n",
      "capacity: 7\n",
      "size: 5\n"
     ]
    }
   ],
   "source": [
    "min_res = MinHeapTree.removeMin()\n",
    "print(f\"Minimum: {min_res}\")\n",
    "print(f\"Storage: {MinHeapTree.storage}\")\n",
    "print(f\"capacity: {MinHeapTree.capacity}\")\n",
    "print(f\"size: {MinHeapTree.size}\")"
   ]
  },
  {
   "cell_type": "code",
   "execution_count": 29,
   "metadata": {},
   "outputs": [
    {
     "name": "stdout",
     "output_type": "stream",
     "text": [
      "Minimum: 8\n",
      "Storage: [10, 15, 30, 20, 30, 15, 30]\n",
      "capacity: 7\n",
      "size: 4\n"
     ]
    }
   ],
   "source": [
    "min_res = MinHeapTree.removeMin()\n",
    "print(f\"Minimum: {min_res}\")\n",
    "print(f\"Storage: {MinHeapTree.storage}\")\n",
    "print(f\"capacity: {MinHeapTree.capacity}\")\n",
    "print(f\"size: {MinHeapTree.size}\")"
   ]
  },
  {
   "cell_type": "code",
   "execution_count": 30,
   "metadata": {},
   "outputs": [
    {
     "name": "stdout",
     "output_type": "stream",
     "text": [
      "Minimum: 10\n",
      "Storage: [15, 20, 30, 20, 30, 15, 30]\n",
      "capacity: 7\n",
      "size: 3\n"
     ]
    }
   ],
   "source": [
    "min_res = MinHeapTree.removeMin()\n",
    "print(f\"Minimum: {min_res}\")\n",
    "print(f\"Storage: {MinHeapTree.storage}\")\n",
    "print(f\"capacity: {MinHeapTree.capacity}\")\n",
    "print(f\"size: {MinHeapTree.size}\")"
   ]
  },
  {
   "cell_type": "code",
   "execution_count": 31,
   "metadata": {},
   "outputs": [
    {
     "name": "stdout",
     "output_type": "stream",
     "text": [
      "Minimum: 15\n",
      "Storage: [20, 30, 30, 20, 30, 15, 30]\n",
      "capacity: 7\n",
      "size: 2\n"
     ]
    }
   ],
   "source": [
    "min_res = MinHeapTree.removeMin()\n",
    "print(f\"Minimum: {min_res}\")\n",
    "print(f\"Storage: {MinHeapTree.storage}\")\n",
    "print(f\"capacity: {MinHeapTree.capacity}\")\n",
    "print(f\"size: {MinHeapTree.size}\")"
   ]
  },
  {
   "cell_type": "code",
   "execution_count": 32,
   "metadata": {},
   "outputs": [
    {
     "name": "stdout",
     "output_type": "stream",
     "text": [
      "Minimum: 20\n",
      "Storage: [30, 30, 30, 20, 30, 15, 30]\n",
      "capacity: 7\n",
      "size: 1\n"
     ]
    }
   ],
   "source": [
    "min_res = MinHeapTree.removeMin()\n",
    "print(f\"Minimum: {min_res}\")\n",
    "print(f\"Storage: {MinHeapTree.storage}\")\n",
    "print(f\"capacity: {MinHeapTree.capacity}\")\n",
    "print(f\"size: {MinHeapTree.size}\")"
   ]
  },
  {
   "cell_type": "code",
   "execution_count": 33,
   "metadata": {},
   "outputs": [
    {
     "name": "stdout",
     "output_type": "stream",
     "text": [
      "Minimum: 30\n",
      "Storage: [30, 30, 30, 20, 30, 15, 30]\n",
      "capacity: 7\n",
      "size: 0\n"
     ]
    }
   ],
   "source": [
    "min_res = MinHeapTree.removeMin()\n",
    "print(f\"Minimum: {min_res}\")\n",
    "print(f\"Storage: {MinHeapTree.storage}\")\n",
    "print(f\"capacity: {MinHeapTree.capacity}\")\n",
    "print(f\"size: {MinHeapTree.size}\")"
   ]
  },
  {
   "cell_type": "code",
   "execution_count": 34,
   "metadata": {},
   "outputs": [
    {
     "ename": "TypeError",
     "evalue": "exceptions must derive from BaseException",
     "output_type": "error",
     "traceback": [
      "\u001b[1;31m---------------------------------------------------------------------------\u001b[0m",
      "\u001b[1;31mTypeError\u001b[0m                                 Traceback (most recent call last)",
      "\u001b[1;32mC:\\Users\\002PMB~1\\AppData\\Local\\Temp/ipykernel_32244/625751163.py\u001b[0m in \u001b[0;36m<module>\u001b[1;34m\u001b[0m\n\u001b[1;32m----> 1\u001b[1;33m \u001b[0mmin_res\u001b[0m \u001b[1;33m=\u001b[0m \u001b[0mMinHeapTree\u001b[0m\u001b[1;33m.\u001b[0m\u001b[0mremoveMin\u001b[0m\u001b[1;33m(\u001b[0m\u001b[1;33m)\u001b[0m\u001b[1;33m\u001b[0m\u001b[1;33m\u001b[0m\u001b[0m\n\u001b[0m\u001b[0;32m      2\u001b[0m \u001b[0mprint\u001b[0m\u001b[1;33m(\u001b[0m\u001b[1;34mf\"Minimum: {min_res}\"\u001b[0m\u001b[1;33m)\u001b[0m\u001b[1;33m\u001b[0m\u001b[1;33m\u001b[0m\u001b[0m\n\u001b[0;32m      3\u001b[0m \u001b[0mprint\u001b[0m\u001b[1;33m(\u001b[0m\u001b[1;34mf\"Storage: {MinHeapTree.storage}\"\u001b[0m\u001b[1;33m)\u001b[0m\u001b[1;33m\u001b[0m\u001b[1;33m\u001b[0m\u001b[0m\n\u001b[0;32m      4\u001b[0m \u001b[0mprint\u001b[0m\u001b[1;33m(\u001b[0m\u001b[1;34mf\"capacity: {MinHeapTree.capacity}\"\u001b[0m\u001b[1;33m)\u001b[0m\u001b[1;33m\u001b[0m\u001b[1;33m\u001b[0m\u001b[0m\n\u001b[0;32m      5\u001b[0m \u001b[0mprint\u001b[0m\u001b[1;33m(\u001b[0m\u001b[1;34mf\"size: {MinHeapTree.size}\"\u001b[0m\u001b[1;33m)\u001b[0m\u001b[1;33m\u001b[0m\u001b[1;33m\u001b[0m\u001b[0m\n",
      "\u001b[1;32mC:\\Users\\002PMB~1\\AppData\\Local\\Temp/ipykernel_32244/1163409276.py\u001b[0m in \u001b[0;36mremoveMin\u001b[1;34m(self)\u001b[0m\n\u001b[0;32m     64\u001b[0m         \u001b[1;31m# removes and returns the min element\"\u001b[0m\u001b[1;33m\u001b[0m\u001b[1;33m\u001b[0m\u001b[0m\n\u001b[0;32m     65\u001b[0m         \u001b[1;32mif\u001b[0m \u001b[1;33m(\u001b[0m\u001b[0mself\u001b[0m\u001b[1;33m.\u001b[0m\u001b[0msize\u001b[0m \u001b[1;33m==\u001b[0m \u001b[1;36m0\u001b[0m\u001b[1;33m)\u001b[0m\u001b[1;33m:\u001b[0m\u001b[1;33m\u001b[0m\u001b[1;33m\u001b[0m\u001b[0m\n\u001b[1;32m---> 66\u001b[1;33m             \u001b[1;32mraise\u001b[0m\u001b[1;33m(\u001b[0m\u001b[1;34m'Empty Heap'\u001b[0m\u001b[1;33m)\u001b[0m\u001b[1;33m\u001b[0m\u001b[1;33m\u001b[0m\u001b[0m\n\u001b[0m\u001b[0;32m     67\u001b[0m \u001b[1;33m\u001b[0m\u001b[0m\n\u001b[0;32m     68\u001b[0m         \u001b[0mdata\u001b[0m \u001b[1;33m=\u001b[0m \u001b[0mself\u001b[0m\u001b[1;33m.\u001b[0m\u001b[0mstorage\u001b[0m\u001b[1;33m[\u001b[0m\u001b[1;36m0\u001b[0m\u001b[1;33m]\u001b[0m\u001b[1;33m\u001b[0m\u001b[1;33m\u001b[0m\u001b[0m\n",
      "\u001b[1;31mTypeError\u001b[0m: exceptions must derive from BaseException"
     ]
    }
   ],
   "source": [
    "min_res = MinHeapTree.removeMin()\n",
    "print(f\"Minimum: {min_res}\")\n",
    "print(f\"Storage: {MinHeapTree.storage}\")\n",
    "print(f\"capacity: {MinHeapTree.capacity}\")\n",
    "print(f\"size: {MinHeapTree.size}\")"
   ]
  }
 ],
 "metadata": {
  "kernelspec": {
   "display_name": "Python 3",
   "language": "python",
   "name": "python3"
  },
  "language_info": {
   "codemirror_mode": {
    "name": "ipython",
    "version": 3
   },
   "file_extension": ".py",
   "mimetype": "text/x-python",
   "name": "python",
   "nbconvert_exporter": "python",
   "pygments_lexer": "ipython3",
   "version": "3.10.0"
  },
  "orig_nbformat": 4
 },
 "nbformat": 4,
 "nbformat_minor": 2
}
