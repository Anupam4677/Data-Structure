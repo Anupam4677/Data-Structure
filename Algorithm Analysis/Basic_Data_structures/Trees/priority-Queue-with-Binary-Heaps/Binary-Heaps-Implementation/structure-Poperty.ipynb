{
 "cells": [
  {
   "cell_type": "code",
   "execution_count": 58,
   "metadata": {},
   "outputs": [],
   "source": [
    "class MinHeap:\n",
    "    #capacity is the max no of elements you want to store \n",
    "    def __init__(self,capacity):\n",
    "        self.storage = [0] * capacity\n",
    "        self.capacity = capacity\n",
    "        # size is the no of elements currently in our heap\n",
    "        self.size = 0\n",
    "    \n",
    "    def getParentIndex(self,index):\n",
    "        # print('getParentIndex:',index )\n",
    "        return int((index-1)/2)\n",
    "    \n",
    "    def getLeftChildIndex(self,index):\n",
    "        return (2 * index) + 1\n",
    "    \n",
    "    def getRightChildIndex(self,index):\n",
    "        return (2 * index) + 2\n",
    "    \n",
    "    def hasParent(self,index):\n",
    "        return self.getParentIndex(index)\n",
    "    \n",
    "    def hasLeftChild(self,index):\n",
    "        return self.getLeftChildIndex(index) < self.size\n",
    "\n",
    "    def hasRightChild(self,index):\n",
    "        return self.getRightChildIndex(index) < self.size\n",
    "    \n",
    "    def parent(self,index):\n",
    "        # print(f\"parent:{self.storage[self.getParentIndex(index)]}\")\n",
    "        return self.storage[self.getParentIndex(index)]\n",
    "    \n",
    "    def getLeftChild(self,index):\n",
    "        return self.storage[self.getLeftChildIndex(index)]\n",
    "    \n",
    "    def getRightChild(self,index):\n",
    "        return self.storage[self.getRightChildIndex(index)]\n",
    "    \n",
    "    def isFull(self):\n",
    "        return self.size == self.capacity\n",
    "    \n",
    "    def swap(self,index1,index2):\n",
    "        temp = self.storage[index1]\n",
    "        self.storage[index1] = self.storage[index2]\n",
    "        self.storage[index2] = temp\n",
    "\n",
    "    def insert(self,data):\n",
    "        if (self.isFull()):\n",
    "            raise(\"Heap is Full\")\n",
    "        # insert the data into the last available position \n",
    "        self.storage[self.size] = data\n",
    "        self.size += 1\n",
    "        self.heapifyUp()\n",
    "\n",
    "    def heapifyUp(self):\n",
    "        index = self.size -1\n",
    "        print('heapify')\n",
    "        \n",
    "        res1= self.hasParent(index)\n",
    "        print('res1:',res1)\n",
    "        print('...')\n",
    "        res2 = self.parent(index)\n",
    "        print('res2:', res2)\n",
    "        print('............')\n",
    "        res3 = self.storage[index]\n",
    "        print('res3',res3)\n",
    "        print(self.storage[index] )\n",
    "        while(self.hasParent(index) and self.parent(index) > self.storage[index]):\n",
    "            self.swap(self.getParentIndex(index),index)\n",
    "            index = self.getParentIndex(index)\n"
   ]
  },
  {
   "cell_type": "code",
   "execution_count": 59,
   "metadata": {},
   "outputs": [
    {
     "name": "stdout",
     "output_type": "stream",
     "text": [
      "Storage: [0, 0, 0, 0, 0, 0, 0]\n",
      "capacity: 7\n",
      "size: 0\n"
     ]
    }
   ],
   "source": [
    "MinHeapTree = MinHeap(7)\n",
    "print(f\"Storage: {MinHeapTree.storage}\")\n",
    "print(f\"capacity: {MinHeapTree.capacity}\")\n",
    "print(f\"size: {MinHeapTree.size}\")\n",
    "\n"
   ]
  },
  {
   "cell_type": "code",
   "execution_count": 60,
   "metadata": {},
   "outputs": [
    {
     "name": "stdout",
     "output_type": "stream",
     "text": [
      "heapify\n",
      "res1: 0\n",
      "...\n",
      "res2: 10\n",
      "............\n",
      "res3 10\n",
      "10\n"
     ]
    }
   ],
   "source": [
    "MinHeapTree.insert(10)"
   ]
  },
  {
   "cell_type": "code",
   "execution_count": null,
   "metadata": {},
   "outputs": [],
   "source": [
    "def swap(self,index1,index2):\n",
    "    temp = self.storage[index1]\n",
    "    self.storage[index1] = self.storage[index2]\n",
    "    self.storage[index2] = temp\n",
    "\n",
    "def insert(self,data):\n",
    "    if (self.isFull()):\n",
    "        raise(\"Heap is Full\")\n",
    "        # insert the data into the last available position \n",
    "    self.storage[self.size] = data\n",
    "    self.size += 1\n",
    "    self.heapifyUp()\n",
    "\n",
    "def heapifyUp(self):\n",
    "    index = self.size -1\n",
    "    while(self.hasParent(index) and self.parent(index) > self.storage[index]):\n",
    "        self.swap(self.getParentIndex(index),index)\n",
    "        index = self.getParentIndex(index)"
   ]
  },
  {
   "cell_type": "code",
   "execution_count": 25,
   "metadata": {},
   "outputs": [
    {
     "ename": "TypeError",
     "evalue": "list indices must be integers or slices, not float",
     "output_type": "error",
     "traceback": [
      "\u001b[1;31m---------------------------------------------------------------------------\u001b[0m",
      "\u001b[1;31mTypeError\u001b[0m                                 Traceback (most recent call last)",
      "\u001b[1;32mC:\\Users\\002PMB~1\\AppData\\Local\\Temp/ipykernel_24980/1267779104.py\u001b[0m in \u001b[0;36m<module>\u001b[1;34m\u001b[0m\n\u001b[0;32m      1\u001b[0m \u001b[0mMinHeapTree\u001b[0m \u001b[1;33m=\u001b[0m \u001b[0mMinHeap\u001b[0m\u001b[1;33m(\u001b[0m\u001b[1;36m7\u001b[0m\u001b[1;33m)\u001b[0m\u001b[1;33m\u001b[0m\u001b[1;33m\u001b[0m\u001b[0m\n\u001b[0;32m      2\u001b[0m \u001b[0mMinHeapTree\u001b[0m\u001b[1;33m.\u001b[0m\u001b[0mstorage\u001b[0m\u001b[1;33m\u001b[0m\u001b[1;33m\u001b[0m\u001b[0m\n\u001b[1;32m----> 3\u001b[1;33m \u001b[0mMinHeapTree\u001b[0m\u001b[1;33m.\u001b[0m\u001b[0minsert\u001b[0m\u001b[1;33m(\u001b[0m\u001b[1;36m1\u001b[0m\u001b[1;33m)\u001b[0m\u001b[1;33m\u001b[0m\u001b[1;33m\u001b[0m\u001b[0m\n\u001b[0m",
      "\u001b[1;32mC:\\Users\\002PMB~1\\AppData\\Local\\Temp/ipykernel_24980/947265561.py\u001b[0m in \u001b[0;36minsert\u001b[1;34m(self, data)\u001b[0m\n\u001b[0;32m     48\u001b[0m         \u001b[0mself\u001b[0m\u001b[1;33m.\u001b[0m\u001b[0mstorage\u001b[0m\u001b[1;33m[\u001b[0m\u001b[0mself\u001b[0m\u001b[1;33m.\u001b[0m\u001b[0msize\u001b[0m\u001b[1;33m]\u001b[0m \u001b[1;33m=\u001b[0m \u001b[0mdata\u001b[0m\u001b[1;33m\u001b[0m\u001b[1;33m\u001b[0m\u001b[0m\n\u001b[0;32m     49\u001b[0m         \u001b[0mself\u001b[0m\u001b[1;33m.\u001b[0m\u001b[0msize\u001b[0m \u001b[1;33m+=\u001b[0m \u001b[1;36m1\u001b[0m\u001b[1;33m\u001b[0m\u001b[1;33m\u001b[0m\u001b[0m\n\u001b[1;32m---> 50\u001b[1;33m         \u001b[0mself\u001b[0m\u001b[1;33m.\u001b[0m\u001b[0mheapifyUp\u001b[0m\u001b[1;33m(\u001b[0m\u001b[1;33m)\u001b[0m\u001b[1;33m\u001b[0m\u001b[1;33m\u001b[0m\u001b[0m\n\u001b[0m\u001b[0;32m     51\u001b[0m \u001b[1;33m\u001b[0m\u001b[0m\n\u001b[0;32m     52\u001b[0m     \u001b[1;32mdef\u001b[0m \u001b[0mheapifyUp\u001b[0m\u001b[1;33m(\u001b[0m\u001b[0mself\u001b[0m\u001b[1;33m)\u001b[0m\u001b[1;33m:\u001b[0m\u001b[1;33m\u001b[0m\u001b[1;33m\u001b[0m\u001b[0m\n",
      "\u001b[1;32mC:\\Users\\002PMB~1\\AppData\\Local\\Temp/ipykernel_24980/947265561.py\u001b[0m in \u001b[0;36mheapifyUp\u001b[1;34m(self)\u001b[0m\n\u001b[0;32m     52\u001b[0m     \u001b[1;32mdef\u001b[0m \u001b[0mheapifyUp\u001b[0m\u001b[1;33m(\u001b[0m\u001b[0mself\u001b[0m\u001b[1;33m)\u001b[0m\u001b[1;33m:\u001b[0m\u001b[1;33m\u001b[0m\u001b[1;33m\u001b[0m\u001b[0m\n\u001b[0;32m     53\u001b[0m         \u001b[0mindex\u001b[0m \u001b[1;33m=\u001b[0m \u001b[0mself\u001b[0m\u001b[1;33m.\u001b[0m\u001b[0msize\u001b[0m \u001b[1;33m-\u001b[0m\u001b[1;36m1\u001b[0m\u001b[1;33m\u001b[0m\u001b[1;33m\u001b[0m\u001b[0m\n\u001b[1;32m---> 54\u001b[1;33m         \u001b[1;32mwhile\u001b[0m\u001b[1;33m(\u001b[0m\u001b[0mself\u001b[0m\u001b[1;33m.\u001b[0m\u001b[0mhasParent\u001b[0m\u001b[1;33m(\u001b[0m\u001b[0mindex\u001b[0m\u001b[1;33m)\u001b[0m \u001b[1;32mand\u001b[0m \u001b[0mself\u001b[0m\u001b[1;33m.\u001b[0m\u001b[0mparent\u001b[0m\u001b[1;33m(\u001b[0m\u001b[0mindex\u001b[0m\u001b[1;33m)\u001b[0m \u001b[1;33m>\u001b[0m \u001b[0mself\u001b[0m\u001b[1;33m.\u001b[0m\u001b[0mstorage\u001b[0m\u001b[1;33m[\u001b[0m\u001b[0mindex\u001b[0m\u001b[1;33m]\u001b[0m\u001b[1;33m)\u001b[0m\u001b[1;33m:\u001b[0m\u001b[1;33m\u001b[0m\u001b[1;33m\u001b[0m\u001b[0m\n\u001b[0m\u001b[0;32m     55\u001b[0m             \u001b[0mself\u001b[0m\u001b[1;33m.\u001b[0m\u001b[0mswap\u001b[0m\u001b[1;33m(\u001b[0m\u001b[0mself\u001b[0m\u001b[1;33m.\u001b[0m\u001b[0mgetParentIndex\u001b[0m\u001b[1;33m(\u001b[0m\u001b[0mindex\u001b[0m\u001b[1;33m)\u001b[0m\u001b[1;33m,\u001b[0m\u001b[0mindex\u001b[0m\u001b[1;33m)\u001b[0m\u001b[1;33m\u001b[0m\u001b[1;33m\u001b[0m\u001b[0m\n\u001b[0;32m     56\u001b[0m             \u001b[0mindex\u001b[0m \u001b[1;33m=\u001b[0m \u001b[0mself\u001b[0m\u001b[1;33m.\u001b[0m\u001b[0mgetParentIndex\u001b[0m\u001b[1;33m(\u001b[0m\u001b[0mindex\u001b[0m\u001b[1;33m)\u001b[0m\u001b[1;33m\u001b[0m\u001b[1;33m\u001b[0m\u001b[0m\n",
      "\u001b[1;32mC:\\Users\\002PMB~1\\AppData\\Local\\Temp/ipykernel_24980/947265561.py\u001b[0m in \u001b[0;36mparent\u001b[1;34m(self, index)\u001b[0m\n\u001b[0;32m     26\u001b[0m \u001b[1;33m\u001b[0m\u001b[0m\n\u001b[0;32m     27\u001b[0m     \u001b[1;32mdef\u001b[0m \u001b[0mparent\u001b[0m\u001b[1;33m(\u001b[0m\u001b[0mself\u001b[0m\u001b[1;33m,\u001b[0m\u001b[0mindex\u001b[0m\u001b[1;33m)\u001b[0m\u001b[1;33m:\u001b[0m\u001b[1;33m\u001b[0m\u001b[1;33m\u001b[0m\u001b[0m\n\u001b[1;32m---> 28\u001b[1;33m         \u001b[1;32mreturn\u001b[0m \u001b[0mself\u001b[0m\u001b[1;33m.\u001b[0m\u001b[0mstorage\u001b[0m\u001b[1;33m[\u001b[0m\u001b[0mself\u001b[0m\u001b[1;33m.\u001b[0m\u001b[0mgetParentIndex\u001b[0m\u001b[1;33m(\u001b[0m\u001b[0mindex\u001b[0m\u001b[1;33m)\u001b[0m\u001b[1;33m]\u001b[0m\u001b[1;33m\u001b[0m\u001b[1;33m\u001b[0m\u001b[0m\n\u001b[0m\u001b[0;32m     29\u001b[0m \u001b[1;33m\u001b[0m\u001b[0m\n\u001b[0;32m     30\u001b[0m     \u001b[1;32mdef\u001b[0m \u001b[0mgetLeftChild\u001b[0m\u001b[1;33m(\u001b[0m\u001b[0mself\u001b[0m\u001b[1;33m,\u001b[0m\u001b[0mindex\u001b[0m\u001b[1;33m)\u001b[0m\u001b[1;33m:\u001b[0m\u001b[1;33m\u001b[0m\u001b[1;33m\u001b[0m\u001b[0m\n",
      "\u001b[1;31mTypeError\u001b[0m: list indices must be integers or slices, not float"
     ]
    }
   ],
   "source": [
    "MinHeapTree = MinHeap(7)\n",
    "MinHeapTree.stao"
   ]
  },
  {
   "cell_type": "code",
   "execution_count": 20,
   "metadata": {},
   "outputs": [
    {
     "ename": "AttributeError",
     "evalue": "'NoneType' object has no attribute 'heapList'",
     "output_type": "error",
     "traceback": [
      "\u001b[1;31m---------------------------------------------------------------------------\u001b[0m",
      "\u001b[1;31mAttributeError\u001b[0m                            Traceback (most recent call last)",
      "\u001b[1;32mC:\\Users\\002PMB~1\\AppData\\Local\\Temp/ipykernel_24980/1182953290.py\u001b[0m in \u001b[0;36m<module>\u001b[1;34m\u001b[0m\n\u001b[0;32m     21\u001b[0m \u001b[0mb_heap\u001b[0m \u001b[1;33m=\u001b[0m \u001b[0mBinaryHeap\u001b[0m\u001b[1;33m(\u001b[0m\u001b[1;33m)\u001b[0m\u001b[1;33m\u001b[0m\u001b[1;33m\u001b[0m\u001b[0m\n\u001b[0;32m     22\u001b[0m \u001b[1;31m# print(b_heap.heapList)\u001b[0m\u001b[1;33m\u001b[0m\u001b[1;33m\u001b[0m\u001b[0m\n\u001b[1;32m---> 23\u001b[1;33m \u001b[0minsert\u001b[0m\u001b[1;33m(\u001b[0m\u001b[0mb_heap\u001b[0m\u001b[1;33m,\u001b[0m\u001b[1;36m5\u001b[0m\u001b[1;33m)\u001b[0m\u001b[1;33m\u001b[0m\u001b[1;33m\u001b[0m\u001b[0m\n\u001b[0m\u001b[0;32m     24\u001b[0m \u001b[0mb_heap\u001b[0m\u001b[1;33m.\u001b[0m\u001b[0minsert\u001b[0m\u001b[1;33m(\u001b[0m\u001b[1;36m9\u001b[0m\u001b[1;33m)\u001b[0m\u001b[1;33m\u001b[0m\u001b[1;33m\u001b[0m\u001b[0m\n\u001b[0;32m     25\u001b[0m \u001b[0mb_heap\u001b[0m\u001b[1;33m.\u001b[0m\u001b[0minsert\u001b[0m\u001b[1;33m(\u001b[0m\u001b[1;36m11\u001b[0m\u001b[1;33m)\u001b[0m\u001b[1;33m\u001b[0m\u001b[1;33m\u001b[0m\u001b[0m\n",
      "\u001b[1;32mC:\\Users\\002PMB~1\\AppData\\Local\\Temp/ipykernel_24980/1182953290.py\u001b[0m in \u001b[0;36minsert\u001b[1;34m(self, k)\u001b[0m\n\u001b[0;32m     15\u001b[0m \u001b[1;33m\u001b[0m\u001b[0m\n\u001b[0;32m     16\u001b[0m \u001b[1;32mdef\u001b[0m \u001b[0minsert\u001b[0m\u001b[1;33m(\u001b[0m\u001b[0mself\u001b[0m\u001b[1;33m,\u001b[0m\u001b[0mk\u001b[0m\u001b[1;33m)\u001b[0m\u001b[1;33m:\u001b[0m\u001b[1;33m\u001b[0m\u001b[1;33m\u001b[0m\u001b[0m\n\u001b[1;32m---> 17\u001b[1;33m     \u001b[0mself\u001b[0m\u001b[1;33m.\u001b[0m\u001b[0mheapList\u001b[0m\u001b[1;33m.\u001b[0m\u001b[0mappend\u001b[0m\u001b[1;33m(\u001b[0m\u001b[0mk\u001b[0m\u001b[1;33m)\u001b[0m\u001b[1;33m\u001b[0m\u001b[1;33m\u001b[0m\u001b[0m\n\u001b[0m\u001b[0;32m     18\u001b[0m     \u001b[0mself\u001b[0m\u001b[1;33m.\u001b[0m\u001b[0mcurrentSize\u001b[0m \u001b[1;33m=\u001b[0m  \u001b[0mself\u001b[0m\u001b[1;33m.\u001b[0m\u001b[0mcurrentSize\u001b[0m \u001b[1;33m+\u001b[0m \u001b[1;36m1\u001b[0m\u001b[1;33m\u001b[0m\u001b[1;33m\u001b[0m\u001b[0m\n\u001b[0;32m     19\u001b[0m     \u001b[0mself\u001b[0m\u001b[1;33m.\u001b[0m\u001b[0mpercUp\u001b[0m\u001b[1;33m(\u001b[0m\u001b[0mself\u001b[0m\u001b[1;33m.\u001b[0m\u001b[0mcurrentSize\u001b[0m\u001b[1;33m)\u001b[0m\u001b[1;33m\u001b[0m\u001b[1;33m\u001b[0m\u001b[0m\n",
      "\u001b[1;31mAttributeError\u001b[0m: 'NoneType' object has no attribute 'heapList'"
     ]
    }
   ],
   "source": [
    "\n",
    "def BinaryHeap():\n",
    "    def __init__(self):\n",
    "        self.heapList = [0]\n",
    "        self.currentSize = 0\n",
    "\n",
    "def percUp(self,i):\n",
    "    while i // 2 > 0:\n",
    "        if self.heapList[i] < self.heapList[i // 2]:\n",
    "            tmp = self.heapList[i // 2]\n",
    "            self.heapList[i // 2] = self.heapList[i]\n",
    "            self.heapList[i] = tmp\n",
    "            \n",
    "        i = i // 2\n",
    "\n",
    "\n",
    "def insert(self,k):\n",
    "    self.heapList.append(k)\n",
    "    self.currentSize =  self.currentSize + 1\n",
    "    self.percUp(self.currentSize)\n",
    "\n",
    "b_heap = BinaryHeap()\n",
    "# print(b_heap.heapList)\n",
    "insert(b_heap,5)\n",
    "b_heap.insert(9)\n",
    "b_heap.insert(11)\n",
    "b_heap.insert(14)\n",
    "b_heap.insert(18)\n",
    "b_heap.insert(19)\n",
    "b_heap.insert(21)\n",
    "b_heap.insert(33)\n",
    "b_heap.insert(17)\n",
    "b_heap.insert(27)"
   ]
  }
 ],
 "metadata": {
  "kernelspec": {
   "display_name": "Python 3",
   "language": "python",
   "name": "python3"
  },
  "language_info": {
   "codemirror_mode": {
    "name": "ipython",
    "version": 3
   },
   "file_extension": ".py",
   "mimetype": "text/x-python",
   "name": "python",
   "nbconvert_exporter": "python",
   "pygments_lexer": "ipython3",
   "version": "3.10.0"
  },
  "orig_nbformat": 4
 },
 "nbformat": 4,
 "nbformat_minor": 2
}
