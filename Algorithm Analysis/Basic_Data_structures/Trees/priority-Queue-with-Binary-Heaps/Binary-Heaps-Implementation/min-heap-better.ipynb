{
 "cells": [
  {
   "cell_type": "code",
   "execution_count": 4,
   "metadata": {},
   "outputs": [],
   "source": [
    "class BinaryHeap:\n",
    "    #capacity is the max no of elements you want to store \n",
    "    def __init__(self):\n",
    "        self.heapList = [0]\n",
    "        self.currentSize = 0\n",
    "    def percuP(self,i):\n",
    "        while i // 2 > 0:\n",
    "            if self.heapList[i] < self.heapList[i // 2]:\n",
    "                tmp = self.heapList[i // 2]\n",
    "                self.heapList[i // 2] = self.heapList[i]\n",
    "                self.heapList[i] = tmp\n",
    "            i = i // 2\n",
    "    def insert(self,k):\n",
    "        self.heapList.append(k)\n",
    "        self.currentSize = self.currentSize + 1\n",
    "        self.percuP(self.currentSize)\n",
    "\n",
    "    def percDown(self,i):\n",
    "        # print(f\"i -- percDown: {i}\")\n",
    "        # print(f\"currentSize -- percDown: {self.currentSize}\")\n",
    "         # list  [0, 27, 9, 11, 14, 18, 19, 21, 33, 17]\n",
    "        while (i * 2) <= self.currentSize:\n",
    "            mc = self.minChild(i)\n",
    "            print(f\"mc: {mc}\")\n",
    "            print(f\"heapList: {self.heapList}\")\n",
    "            if self.heapList[i] > self.heapList[mc]: # 27 > 9\n",
    "                tmp = self.heapList[i] #temp = 27\n",
    "                self.heapList[i] = self.heapList[mc] \n",
    "                self.heapList[mc] = tmp\n",
    "                # exchane\n",
    "                #[0, 9, 27, 11, 14, 18, 19, 21, 33, 17]\n",
    "            i = mc\n",
    "            # assign index of 27 to i \n",
    "\n",
    "    def minChild(self,i):\n",
    "        # its just checking if the child is left or right\n",
    "        # i = 1\n",
    "        # list  [0, 27, 9, 11, 14, 18, 19, 21, 33, 17]\n",
    "        if i * 2 + 1 > self.currentSize:\n",
    "            print('in if ')\n",
    "            return i * 2\n",
    "        else:\n",
    "            # if leftchild is smaller than right child return 1*2 - index of parentchild\n",
    "            if self.heapList[i*2] < self.heapList[i*2+1]: # compare 9 with 11\n",
    "                print('else if ')\n",
    "                return i * 2\n",
    "            else:\n",
    "                # eturn index of rightchild\n",
    "                print('else else ')\n",
    "                return i * 2 + 1\n",
    "    \n",
    "    def delMin(self):\n",
    "        #[0, 5, 9, 11, 14, 18, 19, 21, 33, 17, 27]\n",
    "        # copies index 1 - min value \n",
    "        # PUTS 27- last index  in index 1 ,\n",
    "        # change resuce current size \n",
    "        # delte the last index ..its already put at index 1\n",
    "        # delete \n",
    "        # [0, 27, 9, 11, 14, 18, 19, 21, 33, 17]\n",
    "        retval = self.heapList[1]\n",
    "        self.heapList[1] = self.heapList[self.currentSize]\n",
    "        self.currentSize = self.currentSize -1\n",
    "        self.heapList.pop()\n",
    "        # print(f\"currentSize -- delMin: {self.currentSize}\")\n",
    "        self.percDown(1)\n",
    "        return retval\n",
    "    \n",
    "    def buildHeap(self,alist):\n",
    "        i = len(alist) // 2\n",
    "        self.currentSize = len(alist)\n",
    "        self.heapList = [0] + alist[:]\n",
    "        while (i > 0):\n",
    "            self.percDown(i)\n",
    "            i = i -1\n",
    "\n",
    "\n",
    "      "
   ]
  },
  {
   "cell_type": "code",
   "execution_count": null,
   "metadata": {},
   "outputs": [],
   "source": []
  },
  {
   "cell_type": "code",
   "execution_count": 34,
   "metadata": {},
   "outputs": [
    {
     "name": "stdout",
     "output_type": "stream",
     "text": [
      "heap-list: [0, 5, 9, 11, 14, 18, 19, 21, 33, 17, 27]\n",
      "currentSize: 10\n"
     ]
    }
   ],
   "source": [
    "heap_tree = BinaryHeap()\n",
    "heap_tree.insert(5)\n",
    "heap_tree.insert(9)\n",
    "heap_tree.insert(11)\n",
    "heap_tree.insert(14)\n",
    "heap_tree.insert(18)\n",
    "heap_tree.insert(19)\n",
    "heap_tree.insert(21)\n",
    "heap_tree.insert(33)\n",
    "heap_tree.insert(17)\n",
    "heap_tree.insert(27)\n",
    "print(f\"heap-list: {heap_tree.heapList}\")\n",
    "print(f\"currentSize: {heap_tree.currentSize}\")"
   ]
  },
  {
   "cell_type": "code",
   "execution_count": 35,
   "metadata": {},
   "outputs": [
    {
     "name": "stdout",
     "output_type": "stream",
     "text": [
      "else if \n",
      "mc: 2\n",
      "heapList: [0, 27, 9, 11, 14, 18, 19, 21, 33, 17]\n",
      "else if \n",
      "mc: 4\n",
      "heapList: [0, 9, 27, 11, 14, 18, 19, 21, 33, 17]\n",
      "else else \n",
      "mc: 9\n",
      "heapList: [0, 9, 14, 11, 27, 18, 19, 21, 33, 17]\n"
     ]
    },
    {
     "data": {
      "text/plain": [
       "5"
      ]
     },
     "execution_count": 35,
     "metadata": {},
     "output_type": "execute_result"
    }
   ],
   "source": [
    "heap_tree.delMin()"
   ]
  },
  {
   "cell_type": "code",
   "execution_count": 36,
   "metadata": {},
   "outputs": [
    {
     "name": "stdout",
     "output_type": "stream",
     "text": [
      "else else \n",
      "mc: 3\n",
      "heapList: [0, 27, 14, 11, 17, 18, 19, 21, 33]\n",
      "else if \n",
      "mc: 6\n",
      "heapList: [0, 11, 14, 27, 17, 18, 19, 21, 33]\n"
     ]
    },
    {
     "data": {
      "text/plain": [
       "9"
      ]
     },
     "execution_count": 36,
     "metadata": {},
     "output_type": "execute_result"
    }
   ],
   "source": [
    "heap_tree.delMin()\n"
   ]
  },
  {
   "cell_type": "code",
   "execution_count": 37,
   "metadata": {},
   "outputs": [
    {
     "name": "stdout",
     "output_type": "stream",
     "text": [
      "else if \n",
      "mc: 2\n",
      "heapList: [0, 33, 14, 19, 17, 18, 27, 21]\n",
      "else if \n",
      "mc: 4\n",
      "heapList: [0, 14, 33, 19, 17, 18, 27, 21]\n"
     ]
    },
    {
     "data": {
      "text/plain": [
       "11"
      ]
     },
     "execution_count": 37,
     "metadata": {},
     "output_type": "execute_result"
    }
   ],
   "source": [
    "heap_tree.delMin()"
   ]
  },
  {
   "cell_type": "code",
   "execution_count": null,
   "metadata": {},
   "outputs": [],
   "source": []
  },
  {
   "cell_type": "code",
   "execution_count": 4,
   "metadata": {},
   "outputs": [
    {
     "name": "stdout",
     "output_type": "stream",
     "text": [
      "heap-list: [0, 10, 15]\n",
      "currentSize: 2\n"
     ]
    }
   ],
   "source": [
    "heap_tree.insert(15)\n",
    "print(f\"heap-list: {heap_tree.heapList}\")\n",
    "print(f\"currentSize: {heap_tree.currentSize}\")"
   ]
  },
  {
   "cell_type": "code",
   "execution_count": 5,
   "metadata": {},
   "outputs": [
    {
     "name": "stdout",
     "output_type": "stream",
     "text": [
      "heap-list: [0, 8, 15, 10]\n",
      "currentSize: 3\n"
     ]
    }
   ],
   "source": [
    "heap_tree.insert(8)\n",
    "print(f\"heap-list: {heap_tree.heapList}\")\n",
    "print(f\"currentSize: {heap_tree.currentSize}\")"
   ]
  },
  {
   "cell_type": "code",
   "execution_count": 6,
   "metadata": {},
   "outputs": [
    {
     "name": "stdout",
     "output_type": "stream",
     "text": [
      "heap-list: [0, 7, 8, 10, 15]\n",
      "currentSize: 4\n"
     ]
    }
   ],
   "source": [
    "heap_tree.insert(7)\n",
    "print(f\"heap-list: {heap_tree.heapList}\")\n",
    "print(f\"currentSize: {heap_tree.currentSize}\")"
   ]
  },
  {
   "cell_type": "code",
   "execution_count": 7,
   "metadata": {},
   "outputs": [
    {
     "name": "stdout",
     "output_type": "stream",
     "text": [
      "heap-list: [0, 7, 8, 10, 15, 22]\n",
      "currentSize: 5\n"
     ]
    }
   ],
   "source": [
    "heap_tree.insert(22)\n",
    "print(f\"heap-list: {heap_tree.heapList}\")\n",
    "print(f\"currentSize: {heap_tree.currentSize}\")"
   ]
  },
  {
   "cell_type": "code",
   "execution_count": 15,
   "metadata": {},
   "outputs": [
    {
     "data": {
      "text/plain": [
       "1"
      ]
     },
     "execution_count": 15,
     "metadata": {},
     "output_type": "execute_result"
    }
   ],
   "source": [
    "i = 2\n",
    "i // 2"
   ]
  }
 ],
 "metadata": {
  "kernelspec": {
   "display_name": "Python 3",
   "language": "python",
   "name": "python3"
  },
  "language_info": {
   "codemirror_mode": {
    "name": "ipython",
    "version": 3
   },
   "file_extension": ".py",
   "mimetype": "text/x-python",
   "name": "python",
   "nbconvert_exporter": "python",
   "pygments_lexer": "ipython3",
   "version": "3.10.0"
  },
  "orig_nbformat": 4
 },
 "nbformat": 4,
 "nbformat_minor": 2
}
