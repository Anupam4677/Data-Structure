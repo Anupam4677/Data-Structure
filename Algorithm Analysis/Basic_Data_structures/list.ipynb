{
 "cells": [
  {
   "cell_type": "code",
   "execution_count": 13,
   "metadata": {},
   "outputs": [
    {
     "name": "stdout",
     "output_type": "stream",
     "text": [
      "datafiled: 12 and reference: <bound method Node.getNext of <__main__.Node object at 0x000001F4273BD300>>\n"
     ]
    }
   ],
   "source": [
    "class Node:\n",
    "    def __init__(self,initdata):\n",
    "        self.data = initdata\n",
    "        self.next = None\n",
    "    def getData(self):\n",
    "        return self.data\n",
    "    def getNext(self):\n",
    "        return self.next\n",
    "    def setData(self,newData):\n",
    "        self.data = newData\n",
    "    def setNext(self,newnext):\n",
    "        self.next = newnext\n",
    "temp = Node(93)\n",
    "# res = temp.getData()\n",
    "# res = temp.getNext()\n",
    "temp.setData(12)\n",
    "temp.setNext(18)\n",
    "res = temp.getData()\n",
    "ref = temp.getNext\n",
    "print(f\"datafiled: {res} and reference: {ref}\")"
   ]
  }
 ],
 "metadata": {
  "kernelspec": {
   "display_name": "Python 3",
   "language": "python",
   "name": "python3"
  },
  "language_info": {
   "codemirror_mode": {
    "name": "ipython",
    "version": 3
   },
   "file_extension": ".py",
   "mimetype": "text/x-python",
   "name": "python",
   "nbconvert_exporter": "python",
   "pygments_lexer": "ipython3",
   "version": "3.10.0"
  },
  "orig_nbformat": 4
 },
 "nbformat": 4,
 "nbformat_minor": 2
}
