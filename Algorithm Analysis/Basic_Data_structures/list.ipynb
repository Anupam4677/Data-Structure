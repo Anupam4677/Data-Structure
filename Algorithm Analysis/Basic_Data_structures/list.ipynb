{
 "cells": [
  {
   "cell_type": "code",
   "execution_count": 20,
   "metadata": {},
   "outputs": [],
   "source": [
    "class Node:\n",
    "    def __init__(self,initdata):\n",
    "        self.data = initdata\n",
    "        self.next = None\n",
    "    def getData(self):\n",
    "        return self.data\n",
    "    def getNext(self):\n",
    "        return self.next\n",
    "    def setData(self,newData):\n",
    "        self.data = newData\n",
    "    def setNext(self,newnext):\n",
    "        self.next = newnext\n",
    "# the UnorderedList class constructor\n",
    "class UnorderedList():\n",
    "    def __init__(self):\n",
    "        self.head= None\n",
    "    def isEmpty(self):\n",
    "        return self.head == None\n",
    "    def add(self,item):\n",
    "        temp = Node(item)\n",
    "        temp.setNext(self.head)\n",
    "        self.head = temp\n",
    "def length(self):\n",
    "    current = self.head()\n",
    "    count = 0\n",
    "    while current != None:\n",
    "        count = count + 1\n",
    "        current = current.getNext()\n",
    "    return count\n",
    "# temp = Node(93)\n",
    "# # res = temp.getData()\n",
    "# # res = temp.getNext()\n",
    "# temp.setData(12)\n",
    "# temp.setNext(18)\n",
    "# res = temp.getData()\n",
    "# ref = temp.getNext\n",
    "# print(f\"datafiled: {res} and reference: {ref}\")"
   ]
  },
  {
   "cell_type": "code",
   "execution_count": 26,
   "metadata": {},
   "outputs": [
    {
     "name": "stdout",
     "output_type": "stream",
     "text": [
      "False\n"
     ]
    },
    {
     "ename": "TypeError",
     "evalue": "'Node' object is not callable",
     "output_type": "error",
     "traceback": [
      "\u001b[1;31m---------------------------------------------------------------------------\u001b[0m",
      "\u001b[1;31mTypeError\u001b[0m                                 Traceback (most recent call last)",
      "\u001b[1;32mC:\\Users\\002PMB~1\\AppData\\Local\\Temp/ipykernel_23048/1168640642.py\u001b[0m in \u001b[0;36m<module>\u001b[1;34m\u001b[0m\n\u001b[0;32m     10\u001b[0m \u001b[0mprint\u001b[0m\u001b[1;33m(\u001b[0m\u001b[0mmylist\u001b[0m\u001b[1;33m.\u001b[0m\u001b[0misEmpty\u001b[0m\u001b[1;33m(\u001b[0m\u001b[1;33m)\u001b[0m\u001b[1;33m)\u001b[0m\u001b[1;33m\u001b[0m\u001b[1;33m\u001b[0m\u001b[0m\n\u001b[0;32m     11\u001b[0m \u001b[1;31m# length(mylist)\u001b[0m\u001b[1;33m\u001b[0m\u001b[1;33m\u001b[0m\u001b[0m\n\u001b[1;32m---> 12\u001b[1;33m \u001b[0mmylist\u001b[0m\u001b[1;33m.\u001b[0m\u001b[0mhead\u001b[0m\u001b[1;33m(\u001b[0m\u001b[1;33m)\u001b[0m\u001b[1;33m\u001b[0m\u001b[1;33m\u001b[0m\u001b[0m\n\u001b[0m",
      "\u001b[1;31mTypeError\u001b[0m: 'Node' object is not callable"
     ]
    }
   ],
   "source": [
    "mylist = UnorderedList()\n",
    "mylist.add(31)\n",
    "mylist.add(77)\n",
    "mylist.add(17)\n",
    "mylist.add(93)\n",
    "mylist.add(26)\n",
    "mylist.add(54)\n",
    "mylist.add(10)\n",
    "\n",
    "print(mylist.isEmpty())\n",
    "# length(mylist)\n",
    "mylist.head()\n"
   ]
  },
  {
   "cell_type": "code",
   "execution_count": 28,
   "metadata": {},
   "outputs": [],
   "source": [
    "class Node:\n",
    "    def __init__(self,initdata):\n",
    "        self.data = initdata\n",
    "        self.next = None\n",
    "\n",
    "    def getData(self):\n",
    "        return self.data\n",
    "\n",
    "    def getNext(self):\n",
    "        return self.next\n",
    "\n",
    "    def setData(self,newdata):\n",
    "        self.data = newdata\n",
    "\n",
    "    def setNext(self,newnext):\n",
    "        self.next = newnext\n",
    "class UnorderedList:\n",
    "    def __init__(self):\n",
    "        self.head = None\n",
    "        # self.tail = None\n",
    "\n",
    "    def isEmpty(self):\n",
    "        return self.head == None\n",
    "    def add(self,item):\n",
    "        temp = Node(item)\n",
    "        temp.setNext(self.head)\n",
    "        self.head = temp\n",
    "    def size(self):\n",
    "        current = self.head\n",
    "        count = 0\n",
    "        while current != None:\n",
    "            count = count + 1\n",
    "            current = current.getNext()\n",
    "\n",
    "        return count"
   ]
  },
  {
   "cell_type": "code",
   "execution_count": 31,
   "metadata": {},
   "outputs": [
    {
     "name": "stdout",
     "output_type": "stream",
     "text": [
      "False\n",
      "7\n"
     ]
    }
   ],
   "source": [
    "mylist = UnorderedList()\n",
    "mylist.add(31)\n",
    "mylist.add(77)\n",
    "mylist.add(17)\n",
    "mylist.add(93)\n",
    "mylist.add(26)\n",
    "mylist.add(54)\n",
    "mylist.add(10)\n",
    "\n",
    "print(mylist.isEmpty())\n",
    "print(mylist.size())"
   ]
  },
  {
   "cell_type": "code",
   "execution_count": null,
   "metadata": {},
   "outputs": [],
   "source": []
  }
 ],
 "metadata": {
  "kernelspec": {
   "display_name": "Python 3",
   "language": "python",
   "name": "python3"
  },
  "language_info": {
   "codemirror_mode": {
    "name": "ipython",
    "version": 3
   },
   "file_extension": ".py",
   "mimetype": "text/x-python",
   "name": "python",
   "nbconvert_exporter": "python",
   "pygments_lexer": "ipython3",
   "version": "3.10.0"
  },
  "orig_nbformat": 4
 },
 "nbformat": 4,
 "nbformat_minor": 2
}
